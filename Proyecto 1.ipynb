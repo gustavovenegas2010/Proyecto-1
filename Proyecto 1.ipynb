{
 "cells": [
  {
   "cell_type": "markdown",
   "metadata": {},
   "source": [
    "# Proyecto 1"
   ]
  },
  {
   "cell_type": "markdown",
   "metadata": {},
   "source": [
    "## _Cargar librerias_"
   ]
  },
  {
   "cell_type": "code",
   "execution_count": 210,
   "metadata": {},
   "outputs": [],
   "source": [
    "import numpy as np\n",
    "import pandas as pd\n",
    "import matplotlib.pyplot as plt\n",
    "from matplotlib import style\n",
    "import seaborn as sns\n",
    "from matplotlib import pylab, mlab, pyplot\n",
    "from pylab import *\n",
    "from numpy import *\n",
    "from IPython.display import display\n",
    "from IPython.core.pylabtools import figsize, getfigs\n",
    "from sklearn.linear_model import LinearRegression\n",
    "from sklearn.model_selection import train_test_split\n",
    "from sklearn.metrics import r2_score, mean_squared_error\n",
    "from scipy.stats import pearsonr\n",
    "from sklearn.linear_model import LinearRegression\n",
    "from sklearn.model_selection import train_test_split\n",
    "from sklearn.metrics import r2_score\n",
    "from sklearn.metrics import mean_squared_error\n",
    "import statsmodels.api as sm\n",
    "from scipy import stats\n",
    "import statsmodels.formula.api as smf\n",
    "import seaborn as sns\n",
    "from IPython import display\n",
    "%matplotlib inline\n",
    "from IPython.display import display\n",
    "from IPython.core.pylabtools import figsize, getfigs\n",
    "from sklearn import linear_model\n",
    "plt.rcParams['image.cmap'] = \"bwr\"\n",
    "#plt.rcParams['figure.dpi'] = \"100\"\n",
    "plt.rcParams['savefig.bbox'] = \"tight\"\n",
    "style.use('ggplot') or plt.style.use('ggplot')\n",
    "\n",
    "# Configuración warnings\n",
    "# ==============================================================================\n",
    "import warnings\n",
    "warnings.filterwarnings('ignore')"
   ]
  },
  {
   "cell_type": "markdown",
   "metadata": {},
   "source": [
    "## _Cargar Base de datos_"
   ]
  },
  {
   "cell_type": "markdown",
   "metadata": {},
   "source": [
    "### _Base df (Resultados de encuesta Pública)_"
   ]
  },
  {
   "cell_type": "code",
   "execution_count": 211,
   "metadata": {
    "scrolled": true
   },
   "outputs": [
    {
     "data": {
      "text/html": [
       "<div>\n",
       "<style scoped>\n",
       "    .dataframe tbody tr th:only-of-type {\n",
       "        vertical-align: middle;\n",
       "    }\n",
       "\n",
       "    .dataframe tbody tr th {\n",
       "        vertical-align: top;\n",
       "    }\n",
       "\n",
       "    .dataframe thead th {\n",
       "        text-align: right;\n",
       "    }\n",
       "</style>\n",
       "<table border=\"1\" class=\"dataframe\">\n",
       "  <thead>\n",
       "    <tr style=\"text-align: right;\">\n",
       "      <th></th>\n",
       "      <th>Respondent</th>\n",
       "      <th>Professional</th>\n",
       "      <th>ProgramHobby</th>\n",
       "      <th>Country</th>\n",
       "      <th>University</th>\n",
       "      <th>EmploymentStatus</th>\n",
       "      <th>FormalEducation</th>\n",
       "      <th>MajorUndergrad</th>\n",
       "      <th>HomeRemote</th>\n",
       "      <th>CompanySize</th>\n",
       "      <th>...</th>\n",
       "      <th>StackOverflowMakeMoney</th>\n",
       "      <th>Gender</th>\n",
       "      <th>HighestEducationParents</th>\n",
       "      <th>Race</th>\n",
       "      <th>SurveyLong</th>\n",
       "      <th>QuestionsInteresting</th>\n",
       "      <th>QuestionsConfusing</th>\n",
       "      <th>InterestedAnswers</th>\n",
       "      <th>Salary</th>\n",
       "      <th>ExpectedSalary</th>\n",
       "    </tr>\n",
       "  </thead>\n",
       "  <tbody>\n",
       "    <tr>\n",
       "      <th>0</th>\n",
       "      <td>1</td>\n",
       "      <td>Student</td>\n",
       "      <td>Yes, both</td>\n",
       "      <td>United States</td>\n",
       "      <td>No</td>\n",
       "      <td>Not employed, and not looking for work</td>\n",
       "      <td>Secondary school</td>\n",
       "      <td>NaN</td>\n",
       "      <td>NaN</td>\n",
       "      <td>NaN</td>\n",
       "      <td>...</td>\n",
       "      <td>Strongly disagree</td>\n",
       "      <td>Male</td>\n",
       "      <td>High school</td>\n",
       "      <td>White or of European descent</td>\n",
       "      <td>Strongly disagree</td>\n",
       "      <td>Strongly agree</td>\n",
       "      <td>Disagree</td>\n",
       "      <td>Strongly agree</td>\n",
       "      <td>NaN</td>\n",
       "      <td>NaN</td>\n",
       "    </tr>\n",
       "    <tr>\n",
       "      <th>1</th>\n",
       "      <td>2</td>\n",
       "      <td>Student</td>\n",
       "      <td>Yes, both</td>\n",
       "      <td>United Kingdom</td>\n",
       "      <td>Yes, full-time</td>\n",
       "      <td>Employed part-time</td>\n",
       "      <td>Some college/university study without earning ...</td>\n",
       "      <td>Computer science or software engineering</td>\n",
       "      <td>More than half, but not all, the time</td>\n",
       "      <td>20 to 99 employees</td>\n",
       "      <td>...</td>\n",
       "      <td>Strongly disagree</td>\n",
       "      <td>Male</td>\n",
       "      <td>A master's degree</td>\n",
       "      <td>White or of European descent</td>\n",
       "      <td>Somewhat agree</td>\n",
       "      <td>Somewhat agree</td>\n",
       "      <td>Disagree</td>\n",
       "      <td>Strongly agree</td>\n",
       "      <td>NaN</td>\n",
       "      <td>37500.0</td>\n",
       "    </tr>\n",
       "    <tr>\n",
       "      <th>2</th>\n",
       "      <td>3</td>\n",
       "      <td>Professional developer</td>\n",
       "      <td>Yes, both</td>\n",
       "      <td>United Kingdom</td>\n",
       "      <td>No</td>\n",
       "      <td>Employed full-time</td>\n",
       "      <td>Bachelor's degree</td>\n",
       "      <td>Computer science or software engineering</td>\n",
       "      <td>Less than half the time, but at least one day ...</td>\n",
       "      <td>10,000 or more employees</td>\n",
       "      <td>...</td>\n",
       "      <td>Disagree</td>\n",
       "      <td>Male</td>\n",
       "      <td>A professional degree</td>\n",
       "      <td>White or of European descent</td>\n",
       "      <td>Somewhat agree</td>\n",
       "      <td>Agree</td>\n",
       "      <td>Disagree</td>\n",
       "      <td>Agree</td>\n",
       "      <td>113750.0</td>\n",
       "      <td>NaN</td>\n",
       "    </tr>\n",
       "    <tr>\n",
       "      <th>3</th>\n",
       "      <td>4</td>\n",
       "      <td>Professional non-developer who sometimes write...</td>\n",
       "      <td>Yes, both</td>\n",
       "      <td>United States</td>\n",
       "      <td>No</td>\n",
       "      <td>Employed full-time</td>\n",
       "      <td>Doctoral degree</td>\n",
       "      <td>A non-computer-focused engineering discipline</td>\n",
       "      <td>Less than half the time, but at least one day ...</td>\n",
       "      <td>10,000 or more employees</td>\n",
       "      <td>...</td>\n",
       "      <td>Disagree</td>\n",
       "      <td>Male</td>\n",
       "      <td>A doctoral degree</td>\n",
       "      <td>White or of European descent</td>\n",
       "      <td>Agree</td>\n",
       "      <td>Agree</td>\n",
       "      <td>Somewhat agree</td>\n",
       "      <td>Strongly agree</td>\n",
       "      <td>NaN</td>\n",
       "      <td>NaN</td>\n",
       "    </tr>\n",
       "    <tr>\n",
       "      <th>4</th>\n",
       "      <td>5</td>\n",
       "      <td>Professional developer</td>\n",
       "      <td>Yes, I program as a hobby</td>\n",
       "      <td>Switzerland</td>\n",
       "      <td>No</td>\n",
       "      <td>Employed full-time</td>\n",
       "      <td>Master's degree</td>\n",
       "      <td>Computer science or software engineering</td>\n",
       "      <td>Never</td>\n",
       "      <td>10 to 19 employees</td>\n",
       "      <td>...</td>\n",
       "      <td>NaN</td>\n",
       "      <td>NaN</td>\n",
       "      <td>NaN</td>\n",
       "      <td>NaN</td>\n",
       "      <td>NaN</td>\n",
       "      <td>NaN</td>\n",
       "      <td>NaN</td>\n",
       "      <td>NaN</td>\n",
       "      <td>NaN</td>\n",
       "      <td>NaN</td>\n",
       "    </tr>\n",
       "  </tbody>\n",
       "</table>\n",
       "<p>5 rows × 154 columns</p>\n",
       "</div>"
      ],
      "text/plain": [
       "   Respondent                                       Professional  \\\n",
       "0           1                                            Student   \n",
       "1           2                                            Student   \n",
       "2           3                             Professional developer   \n",
       "3           4  Professional non-developer who sometimes write...   \n",
       "4           5                             Professional developer   \n",
       "\n",
       "                ProgramHobby         Country      University  \\\n",
       "0                  Yes, both   United States              No   \n",
       "1                  Yes, both  United Kingdom  Yes, full-time   \n",
       "2                  Yes, both  United Kingdom              No   \n",
       "3                  Yes, both   United States              No   \n",
       "4  Yes, I program as a hobby     Switzerland              No   \n",
       "\n",
       "                         EmploymentStatus  \\\n",
       "0  Not employed, and not looking for work   \n",
       "1                      Employed part-time   \n",
       "2                      Employed full-time   \n",
       "3                      Employed full-time   \n",
       "4                      Employed full-time   \n",
       "\n",
       "                                     FormalEducation  \\\n",
       "0                                   Secondary school   \n",
       "1  Some college/university study without earning ...   \n",
       "2                                  Bachelor's degree   \n",
       "3                                    Doctoral degree   \n",
       "4                                    Master's degree   \n",
       "\n",
       "                                  MajorUndergrad  \\\n",
       "0                                            NaN   \n",
       "1       Computer science or software engineering   \n",
       "2       Computer science or software engineering   \n",
       "3  A non-computer-focused engineering discipline   \n",
       "4       Computer science or software engineering   \n",
       "\n",
       "                                          HomeRemote  \\\n",
       "0                                                NaN   \n",
       "1              More than half, but not all, the time   \n",
       "2  Less than half the time, but at least one day ...   \n",
       "3  Less than half the time, but at least one day ...   \n",
       "4                                              Never   \n",
       "\n",
       "                CompanySize  ... StackOverflowMakeMoney Gender  \\\n",
       "0                       NaN  ...      Strongly disagree   Male   \n",
       "1        20 to 99 employees  ...      Strongly disagree   Male   \n",
       "2  10,000 or more employees  ...               Disagree   Male   \n",
       "3  10,000 or more employees  ...               Disagree   Male   \n",
       "4        10 to 19 employees  ...                    NaN    NaN   \n",
       "\n",
       "  HighestEducationParents                          Race         SurveyLong  \\\n",
       "0             High school  White or of European descent  Strongly disagree   \n",
       "1       A master's degree  White or of European descent     Somewhat agree   \n",
       "2   A professional degree  White or of European descent     Somewhat agree   \n",
       "3       A doctoral degree  White or of European descent              Agree   \n",
       "4                     NaN                           NaN                NaN   \n",
       "\n",
       "  QuestionsInteresting QuestionsConfusing InterestedAnswers    Salary  \\\n",
       "0       Strongly agree           Disagree    Strongly agree       NaN   \n",
       "1       Somewhat agree           Disagree    Strongly agree       NaN   \n",
       "2                Agree           Disagree             Agree  113750.0   \n",
       "3                Agree     Somewhat agree    Strongly agree       NaN   \n",
       "4                  NaN                NaN               NaN       NaN   \n",
       "\n",
       "   ExpectedSalary  \n",
       "0             NaN  \n",
       "1         37500.0  \n",
       "2             NaN  \n",
       "3             NaN  \n",
       "4             NaN  \n",
       "\n",
       "[5 rows x 154 columns]"
      ]
     },
     "execution_count": 211,
     "metadata": {},
     "output_type": "execute_result"
    }
   ],
   "source": [
    "df = pd.read_csv('C:/Users/Teletrabajo/Desktop/1.UDACITY/Clase 1. The Data Science Process/Practica Libre/survey-results-public.csv')\n",
    "df.head()"
   ]
  },
  {
   "cell_type": "markdown",
   "metadata": {},
   "source": [
    "### _Tamaño de base de datos original_\n",
    "\n",
    "El tamaño de la base de datos original es de 51.392 filas o registros por 154 columnas o variables"
   ]
  },
  {
   "cell_type": "code",
   "execution_count": 212,
   "metadata": {},
   "outputs": [
    {
     "name": "stdout",
     "output_type": "stream",
     "text": [
      "Número de filas: \n",
      " 51392 \n",
      "Número de columnas: \n",
      " 154\n"
     ]
    }
   ],
   "source": [
    "num_rows = df.shape[0] #number of rows\n",
    "num_cols = df.shape[1] #number of columns\n",
    "print('Número de filas: \\n', num_rows,'\\nNúmero de columnas: \\n',num_cols)"
   ]
  },
  {
   "cell_type": "markdown",
   "metadata": {},
   "source": [
    "### _Estadísticos descriptivos Variables Cuantitativas Base de datos df_\n",
    "\n",
    "A continuación encontramos que de las 145 variables, 6 son de tipo cuantitativo ya que la columna \"Respondent\" es una columna de identificador. Se evidencia que la variable \"ExpectedSalary\" contiene muy pocos datos (2.566) tan solo un 5% de las personas contestaron esa pregunta."
   ]
  },
  {
   "cell_type": "code",
   "execution_count": 213,
   "metadata": {
    "scrolled": true
   },
   "outputs": [
    {
     "data": {
      "text/html": [
       "<div>\n",
       "<style scoped>\n",
       "    .dataframe tbody tr th:only-of-type {\n",
       "        vertical-align: middle;\n",
       "    }\n",
       "\n",
       "    .dataframe tbody tr th {\n",
       "        vertical-align: top;\n",
       "    }\n",
       "\n",
       "    .dataframe thead th {\n",
       "        text-align: right;\n",
       "    }\n",
       "</style>\n",
       "<table border=\"1\" class=\"dataframe\">\n",
       "  <thead>\n",
       "    <tr style=\"text-align: right;\">\n",
       "      <th></th>\n",
       "      <th>Respondent</th>\n",
       "      <th>CareerSatisfaction</th>\n",
       "      <th>JobSatisfaction</th>\n",
       "      <th>HoursPerWeek</th>\n",
       "      <th>StackOverflowSatisfaction</th>\n",
       "      <th>Salary</th>\n",
       "      <th>ExpectedSalary</th>\n",
       "    </tr>\n",
       "  </thead>\n",
       "  <tbody>\n",
       "    <tr>\n",
       "      <th>count</th>\n",
       "      <td>51392.000000</td>\n",
       "      <td>42695.000000</td>\n",
       "      <td>40376.000000</td>\n",
       "      <td>20600.000000</td>\n",
       "      <td>36592.000000</td>\n",
       "      <td>12891.000000</td>\n",
       "      <td>2566.000000</td>\n",
       "    </tr>\n",
       "    <tr>\n",
       "      <th>mean</th>\n",
       "      <td>25696.500000</td>\n",
       "      <td>7.300574</td>\n",
       "      <td>6.957078</td>\n",
       "      <td>3.952282</td>\n",
       "      <td>8.429875</td>\n",
       "      <td>56298.480641</td>\n",
       "      <td>33142.220468</td>\n",
       "    </tr>\n",
       "    <tr>\n",
       "      <th>std</th>\n",
       "      <td>14835.736854</td>\n",
       "      <td>1.955444</td>\n",
       "      <td>2.167652</td>\n",
       "      <td>7.564722</td>\n",
       "      <td>1.390635</td>\n",
       "      <td>39880.905277</td>\n",
       "      <td>30162.988829</td>\n",
       "    </tr>\n",
       "    <tr>\n",
       "      <th>min</th>\n",
       "      <td>1.000000</td>\n",
       "      <td>0.000000</td>\n",
       "      <td>0.000000</td>\n",
       "      <td>0.000000</td>\n",
       "      <td>0.000000</td>\n",
       "      <td>0.000000</td>\n",
       "      <td>0.000000</td>\n",
       "    </tr>\n",
       "    <tr>\n",
       "      <th>25%</th>\n",
       "      <td>12848.750000</td>\n",
       "      <td>6.000000</td>\n",
       "      <td>6.000000</td>\n",
       "      <td>1.000000</td>\n",
       "      <td>8.000000</td>\n",
       "      <td>26440.371839</td>\n",
       "      <td>4490.492484</td>\n",
       "    </tr>\n",
       "    <tr>\n",
       "      <th>50%</th>\n",
       "      <td>25696.500000</td>\n",
       "      <td>8.000000</td>\n",
       "      <td>7.000000</td>\n",
       "      <td>1.000000</td>\n",
       "      <td>9.000000</td>\n",
       "      <td>50000.000000</td>\n",
       "      <td>29364.263691</td>\n",
       "    </tr>\n",
       "    <tr>\n",
       "      <th>75%</th>\n",
       "      <td>38544.250000</td>\n",
       "      <td>9.000000</td>\n",
       "      <td>8.000000</td>\n",
       "      <td>4.000000</td>\n",
       "      <td>10.000000</td>\n",
       "      <td>80000.000000</td>\n",
       "      <td>50403.225806</td>\n",
       "    </tr>\n",
       "    <tr>\n",
       "      <th>max</th>\n",
       "      <td>51392.000000</td>\n",
       "      <td>10.000000</td>\n",
       "      <td>10.000000</td>\n",
       "      <td>40.000000</td>\n",
       "      <td>10.000000</td>\n",
       "      <td>197000.000000</td>\n",
       "      <td>187500.000000</td>\n",
       "    </tr>\n",
       "  </tbody>\n",
       "</table>\n",
       "</div>"
      ],
      "text/plain": [
       "         Respondent  CareerSatisfaction  JobSatisfaction  HoursPerWeek  \\\n",
       "count  51392.000000        42695.000000     40376.000000  20600.000000   \n",
       "mean   25696.500000            7.300574         6.957078      3.952282   \n",
       "std    14835.736854            1.955444         2.167652      7.564722   \n",
       "min        1.000000            0.000000         0.000000      0.000000   \n",
       "25%    12848.750000            6.000000         6.000000      1.000000   \n",
       "50%    25696.500000            8.000000         7.000000      1.000000   \n",
       "75%    38544.250000            9.000000         8.000000      4.000000   \n",
       "max    51392.000000           10.000000        10.000000     40.000000   \n",
       "\n",
       "       StackOverflowSatisfaction         Salary  ExpectedSalary  \n",
       "count               36592.000000   12891.000000     2566.000000  \n",
       "mean                    8.429875   56298.480641    33142.220468  \n",
       "std                     1.390635   39880.905277    30162.988829  \n",
       "min                     0.000000       0.000000        0.000000  \n",
       "25%                     8.000000   26440.371839     4490.492484  \n",
       "50%                     9.000000   50000.000000    29364.263691  \n",
       "75%                    10.000000   80000.000000    50403.225806  \n",
       "max                    10.000000  197000.000000   187500.000000  "
      ]
     },
     "execution_count": 213,
     "metadata": {},
     "output_type": "execute_result"
    }
   ],
   "source": [
    "df.describe()"
   ]
  },
  {
   "cell_type": "markdown",
   "metadata": {},
   "source": [
    "# Pregunta 1)\n",
    "\n",
    "##  _¿Cómo se comporta la satisfacción laboral?_\n",
    "\n",
    "Posteriormente se calculará un resumen de estadísticas descriptivas de la variable _JobSatisfaction_, donde se puede visualizar que en promedio la satisfación laboral es de 6.9 es decir que la mayoría de encuestados tienen buena satifacción laboral. También se evidencia que el percentil 1 (25%) es 6, por consiguiente el 75% de los encuentados tienen una satisfacción laboral por encima de 6 que es aceptable, como se puede ver en las siguientes tabla, grafico de barras y diagrama caja."
   ]
  },
  {
   "cell_type": "code",
   "execution_count": 214,
   "metadata": {},
   "outputs": [
    {
     "data": {
      "text/plain": [
       "count    40376.000000\n",
       "mean         6.957078\n",
       "std          2.167652\n",
       "min          0.000000\n",
       "25%          6.000000\n",
       "50%          7.000000\n",
       "75%          8.000000\n",
       "max         10.000000\n",
       "Name: JobSatisfaction, dtype: float64"
      ]
     },
     "execution_count": 214,
     "metadata": {},
     "output_type": "execute_result"
    }
   ],
   "source": [
    "df['JobSatisfaction'].describe()"
   ]
  },
  {
   "cell_type": "code",
   "execution_count": 215,
   "metadata": {},
   "outputs": [
    {
     "data": {
      "image/png": "[encoded data removed]",
      "text/plain": [
       "<Figure size 432x288 with 1 Axes>"
      ]
     },
     "metadata": {},
     "output_type": "display_data"
    }
   ],
   "source": [
    "df['JobSatisfaction'].hist(bins=8) \n",
    "plt.xlabel(\"Satisfacción Laboral\")\n",
    "plt.ylabel(\"Frecuencia\")\n",
    "plt.title(\"Diagrama de barras Satisfacción Laboral\")\n",
    "plt.show()"
   ]
  },
  {
   "cell_type": "code",
   "execution_count": 216,
   "metadata": {},
   "outputs": [
    {
     "data": {
      "image/png": "[encoded data removed]",
      "text/plain": [
       "<Figure size 432x288 with 1 Axes>"
      ]
     },
     "metadata": {},
     "output_type": "display_data"
    }
   ],
   "source": [
    "cajas=sns.boxplot(list(df['JobSatisfaction']))\n",
    "plt.title(\"Diagrama de Caja - Satisfacción Laboral\")\n",
    "plt.xlabel(\"Satisfacción Laboral\")\n",
    "plt.show()"
   ]
  },
  {
   "cell_type": "markdown",
   "metadata": {},
   "source": [
    "A continuación se realiza las siguientes tablas comparando la satisfación laboral con el estado del empleado, el tamañano de la compañia y el país. De aquí se concluyeque los empleados con menos satisfacción laboral son los que tienen contratos de tiempo completo. "
   ]
  },
  {
   "cell_type": "code",
   "execution_count": 217,
   "metadata": {},
   "outputs": [
    {
     "data": {
      "text/plain": [
       "EmploymentStatus\n",
       "Employed part-time                                      6.821468\n",
       "Employed full-time                                      6.926805\n",
       "Not employed, and not looking for work                  7.000000\n",
       "Independent contractor, freelancer, or self-employed    7.252823\n",
       "I prefer not to say                                          NaN\n",
       "Name: JobSatisfaction, dtype: float64"
      ]
     },
     "execution_count": 217,
     "metadata": {},
     "output_type": "execute_result"
    }
   ],
   "source": [
    "df2=df.groupby(['EmploymentStatus']).mean()['JobSatisfaction'].sort_values()\n",
    "df2.head()"
   ]
  },
  {
   "cell_type": "markdown",
   "metadata": {},
   "source": [
    "También se evidencia que los empleados con mayor satisfacción laboral son los que trabajan para empresas con 10 a menos empleados, seguidas de las empresas de 10 a 19 empleados; de aquí se concluye que los de mayor satisfacción laboral son los empleados cuyas empresas cuentas con pocos empleados."
   ]
  },
  {
   "cell_type": "code",
   "execution_count": 218,
   "metadata": {},
   "outputs": [
    {
     "data": {
      "text/plain": [
       "CompanySize\n",
       "5,000 to 9,999 employees    6.748153\n",
       "10,000 or more employees    6.810345\n",
       "I don't know                6.842679\n",
       "500 to 999 employees        6.883661\n",
       "1,000 to 4,999 employees    6.884509\n",
       "100 to 499 employees        6.937089\n",
       "20 to 99 employees          6.949092\n",
       "10 to 19 employees          7.000799\n",
       "Fewer than 10 employees     7.008749\n",
       "I prefer not to answer      7.280835\n",
       "Name: JobSatisfaction, dtype: float64"
      ]
     },
     "execution_count": 218,
     "metadata": {},
     "output_type": "execute_result"
    }
   ],
   "source": [
    "df.groupby(['CompanySize']).mean()['JobSatisfaction'].sort_values()"
   ]
  },
  {
   "cell_type": "markdown",
   "metadata": {},
   "source": [
    "Dadas las tablas siguientes se concluye que los paises con más baja satisfacción laboral son Saint Lucia, Fiji y American Samoa, por el contrario los paises con mayor satisfacción laboral son: Macau, Libya y Angola."
   ]
  },
  {
   "cell_type": "code",
   "execution_count": 219,
   "metadata": {},
   "outputs": [
    {
     "data": {
      "text/plain": [
       "Country\n",
       "Saint Lucia                    0.000000\n",
       "Fiji                           0.000000\n",
       "American Samoa                 0.000000\n",
       "Martinique (French)            1.500000\n",
       "North Korea                    2.000000\n",
       "Somalia                        2.000000\n",
       "French Guyana                  3.000000\n",
       "Niger                          3.000000\n",
       "Bhutan                         3.000000\n",
       "Lesotho                        3.000000\n",
       "Brunei Darussalam              3.000000\n",
       "U.S. Minor Outlying Islands    3.000000\n",
       "Eritrea                        3.000000\n",
       "Swaziland                      3.500000\n",
       "Falkland Islands               4.000000\n",
       "Gabon                          4.000000\n",
       "Saint Vincent & Grenadines     4.500000\n",
       "Algeria                        4.823529\n",
       "Northern Mariana Islands       5.000000\n",
       "Turkmenistan                   5.000000\n",
       "Name: JobSatisfaction, dtype: float64"
      ]
     },
     "execution_count": 219,
     "metadata": {},
     "output_type": "execute_result"
    }
   ],
   "source": [
    "country_comp=df.groupby(['Country']).mean()['JobSatisfaction'].sort_values().dropna()\n",
    "# como ver los valores mas grandes primero?\n",
    "country_comp[:20]"
   ]
  },
  {
   "cell_type": "code",
   "execution_count": 220,
   "metadata": {},
   "outputs": [
    {
     "data": {
      "text/plain": [
       "Country\n",
       "Macau                             10.000000\n",
       "Libya                             10.000000\n",
       "Angola                             9.000000\n",
       "Anguilla                           9.000000\n",
       "Andorra                            9.000000\n",
       "Laos                               9.000000\n",
       "Yemen                              9.000000\n",
       "New Caledonia (French)             8.666667\n",
       "Suriname                           8.500000\n",
       "Virgin Islands (USA)               8.200000\n",
       "Iceland                            8.090909\n",
       "Malawi                             8.000000\n",
       "Polynesia (French)                 8.000000\n",
       "Gibraltar                          8.000000\n",
       "Tadjikistan                        8.000000\n",
       "Bermuda                            8.000000\n",
       "S. Georgia & S. Sandwich Isls.     8.000000\n",
       "Puerto Rico                        7.937500\n",
       "Qatar                              7.875000\n",
       "Costa Rica                         7.804878\n",
       "Name: JobSatisfaction, dtype: float64"
      ]
     },
     "execution_count": 220,
     "metadata": {},
     "output_type": "execute_result"
    }
   ],
   "source": [
    "country_comp=df.groupby(['Country']).mean()['JobSatisfaction'].sort_values(ascending=False).dropna()\n",
    "# como ver los valores mas grandes primero?\n",
    "country_comp[:20]"
   ]
  },
  {
   "cell_type": "markdown",
   "metadata": {},
   "source": [
    "# Pregunta 2)\n",
    "\n",
    "##  ¿_Si una persona tiene alta satisfacción por un carrera (***CareerSatisfaction***), también tendrá alta satisfacción por su trabajo (***JobSatisfaction***)?_"
   ]
  },
  {
   "cell_type": "code",
   "execution_count": 221,
   "metadata": {
    "scrolled": true
   },
   "outputs": [
    {
     "data": {
      "image/png": "[encoded data removed]",
      "text/plain": [
       "<Figure size 432x288 with 2 Axes>"
      ]
     },
     "metadata": {},
     "output_type": "display_data"
    }
   ],
   "source": [
    "sns.heatmap(df.corr(), annot=True, fmt='.2f');"
   ]
  },
  {
   "cell_type": "markdown",
   "metadata": {},
   "source": [
    "En el diagrama de correlación anterior se muestra que entre las variables cuantitativas la mayor relación lineal se encuentra entre las variables de _JobSatisfaction_ y _CareerSatisfaction_,, con una correlación de 0.65. Al tener esta nos indica que existe indicios que entre más Satisfacción por su carrera también tendrá mayor satisfacción por su trabajo. A continuación realizaremos un modelo lineal simple para verificar si esta variable incide y cuál es su impacto?"
   ]
  },
  {
   "cell_type": "markdown",
   "metadata": {},
   "source": [
    "### Definición base de datos para la realización del modelo."
   ]
  },
  {
   "cell_type": "markdown",
   "metadata": {},
   "source": [
    "Dado que el modelo se va realizar unicamente con las variables de _JobSatisfaction_ y _CareerSatisfaction_, realizar una subbase o set a la base con estas dos variables"
   ]
  },
  {
   "cell_type": "code",
   "execution_count": 222,
   "metadata": {},
   "outputs": [
    {
     "data": {
      "text/html": [
       "<div>\n",
       "<style scoped>\n",
       "    .dataframe tbody tr th:only-of-type {\n",
       "        vertical-align: middle;\n",
       "    }\n",
       "\n",
       "    .dataframe tbody tr th {\n",
       "        vertical-align: top;\n",
       "    }\n",
       "\n",
       "    .dataframe thead th {\n",
       "        text-align: right;\n",
       "    }\n",
       "</style>\n",
       "<table border=\"1\" class=\"dataframe\">\n",
       "  <thead>\n",
       "    <tr style=\"text-align: right;\">\n",
       "      <th></th>\n",
       "      <th>CareerSatisfaction</th>\n",
       "      <th>JobSatisfaction</th>\n",
       "    </tr>\n",
       "  </thead>\n",
       "  <tbody>\n",
       "    <tr>\n",
       "      <th>0</th>\n",
       "      <td>NaN</td>\n",
       "      <td>NaN</td>\n",
       "    </tr>\n",
       "    <tr>\n",
       "      <th>1</th>\n",
       "      <td>NaN</td>\n",
       "      <td>NaN</td>\n",
       "    </tr>\n",
       "    <tr>\n",
       "      <th>2</th>\n",
       "      <td>8.0</td>\n",
       "      <td>9.0</td>\n",
       "    </tr>\n",
       "    <tr>\n",
       "      <th>3</th>\n",
       "      <td>6.0</td>\n",
       "      <td>3.0</td>\n",
       "    </tr>\n",
       "    <tr>\n",
       "      <th>4</th>\n",
       "      <td>6.0</td>\n",
       "      <td>8.0</td>\n",
       "    </tr>\n",
       "  </tbody>\n",
       "</table>\n",
       "</div>"
      ],
      "text/plain": [
       "   CareerSatisfaction  JobSatisfaction\n",
       "0                 NaN              NaN\n",
       "1                 NaN              NaN\n",
       "2                 8.0              9.0\n",
       "3                 6.0              3.0\n",
       "4                 6.0              8.0"
      ]
     },
     "execution_count": 222,
     "metadata": {},
     "output_type": "execute_result"
    }
   ],
   "source": [
    "num_vars = df[['CareerSatisfaction', 'JobSatisfaction']]\n",
    "num_vars.head()"
   ]
  },
  {
   "cell_type": "markdown",
   "metadata": {},
   "source": [
    "Dado que la base de datos contiene valores en null procedemos a eliminar las filas con valores null."
   ]
  },
  {
   "cell_type": "code",
   "execution_count": 223,
   "metadata": {},
   "outputs": [
    {
     "name": "stdout",
     "output_type": "stream",
     "text": [
      "Número de filas: \n",
      " 40352 \n",
      "Número de columnas: \n",
      " 2\n"
     ]
    }
   ],
   "source": [
    "df_dropna = num_vars.dropna(axis=0)\n",
    "df_dropna_rows = df_dropna.shape[0] #number of rows\n",
    "df_dropna_cols = df_dropna.shape[1] #number of columns\n",
    "print('Número de filas: \\n', df_dropna_rows,'\\nNúmero de columnas: \\n',df_dropna_cols)"
   ]
  },
  {
   "cell_type": "markdown",
   "metadata": {},
   "source": [
    "# Modelo lineal Simple"
   ]
  },
  {
   "cell_type": "code",
   "execution_count": 224,
   "metadata": {},
   "outputs": [
    {
     "name": "stdout",
     "output_type": "stream",
     "text": [
      "Coeficiente de determinación R^2: 0.41702156404404644\n",
      "Independent term: \n",
      " 1.4086941268659698\n",
      "Coeficiente: [('CareerSatisfaction', 0.7533886089776529)]\n"
     ]
    }
   ],
   "source": [
    "X = df_dropna[['CareerSatisfaction']]\n",
    "y = df_dropna['JobSatisfaction']\n",
    "\n",
    "#Split into train and test\n",
    "X_train, X_test, y_train, y_test = train_test_split(X, y, test_size = .30, random_state=42) \n",
    "\n",
    "lm_model = LinearRegression(normalize=True) # Instantiate\n",
    "lm_model.fit(X_train, y_train) #Fit\n",
    "\n",
    "      \n",
    "#Predict and score the model\n",
    "y_test_preds = lm_model.predict(X_test) \n",
    "\n",
    "print(\"Coeficiente de determinación R^2:\", lm_model.score(X, y))\n",
    "print('Independent term: \\n', lm_model.intercept_)\n",
    "print(\"Coeficiente:\", list(zip(X.columns, lm_model.coef_.flatten(), )))\n",
    "\n"
   ]
  },
  {
   "cell_type": "markdown",
   "metadata": {},
   "source": [
    "Después de realizar la regresión lineal simple observamos que el R2 es igual a 0.4170 lo que indica que la variable 'CareerSatisfaction' explica una parte de la variable  'JobSatisfaction', sin embargo después de probar con más variables en ejercicios alternos no logra incrementar su r2, por consiguiente se revisa los estadisticos Prob (F-statistic) y P_value de la variable 'CareerSatisfaction', para determinar si es significativa."
   ]
  },
  {
   "cell_type": "code",
   "execution_count": 230,
   "metadata": {},
   "outputs": [
    {
     "name": "stdout",
     "output_type": "stream",
     "text": [
      "                            OLS Regression Results                            \n",
      "==============================================================================\n",
      "Dep. Variable:        JobSatisfaction   R-squared:                       0.426\n",
      "Model:                            OLS   Adj. R-squared:                  0.426\n",
      "Method:                 Least Squares   F-statistic:                 2.093e+04\n",
      "Date:                Thu, 04 Feb 2021   Prob (F-statistic):               0.00\n",
      "Time:                        16:15:58   Log-Likelihood:                -54283.\n",
      "No. Observations:               28246   AIC:                         1.086e+05\n",
      "Df Residuals:                   28244   BIC:                         1.086e+05\n",
      "Df Model:                           1                                         \n",
      "Covariance Type:            nonrobust                                         \n",
      "======================================================================================\n",
      "                         coef    std err          t      P>|t|      [0.025      0.975]\n",
      "--------------------------------------------------------------------------------------\n",
      "const                  1.4087      0.040     35.596      0.000       1.331       1.486\n",
      "CareerSatisfaction     0.7534      0.005    144.670      0.000       0.743       0.764\n",
      "==============================================================================\n",
      "Omnibus:                     4773.708   Durbin-Watson:                   2.009\n",
      "Prob(Omnibus):                  0.000   Jarque-Bera (JB):            12349.268\n",
      "Skew:                          -0.934   Prob(JB):                         0.00\n",
      "Kurtosis:                       5.647   Cond. No.                         31.1\n",
      "==============================================================================\n",
      "\n",
      "Warnings:\n",
      "[1] Standard Errors assume that the covariance matrix of the errors is correctly specified.\n"
     ]
    }
   ],
   "source": [
    "X_train = sm.add_constant(X_train, prepend=True)\n",
    "modelo = sm.OLS(endog=y_train, exog=X_train,)\n",
    "modelo = modelo.fit()\n",
    "print(modelo.summary())"
   ]
  },
  {
   "cell_type": "markdown",
   "metadata": {},
   "source": [
    "Se evidencia que la probabilidad de la estadística F,  Prob(F-statistic)=0.00 es menor a 0.05% , con un nivel del 95% podemos rechazar la hipótesis nula (Ho), es decir que el modelo es explicativo, por consiguiente la variable _'CareerSatisfaction'_ del modelo tiene efecto en la variable de respuesta _'CareerSatisfaction'_ y también observamos que el p_value (P>|t|) de la variable _'CareerSatisfaction'_ es 0.000, menor a 0.05%, es decir que es significativa para el modelo.\n",
    "\n",
    "Por lo anterior se concluye que el grado de satisfacción por una carrera influye en la satisfacción por el trabajo, sin embargo no es sufiente para explicar el la satisfacción por el trabajo, por consiguiente debe existir otras variables que también contribuyan para que la satisfacción por el trabajo sea mayor."
   ]
  },
  {
   "cell_type": "markdown",
   "metadata": {},
   "source": [
    "# Pregunta 3)\n",
    "\n",
    "##  ¿_Qué variables cualitativas y cuantitativas influyen para que un empleado tenga una alta satisfacción por su trabajo (***JobSatisfaction***)?_"
   ]
  },
  {
   "cell_type": "markdown",
   "metadata": {},
   "source": [
    "Dado que la base de datos contiene más de 140 variables cualitativas, seleccionamos las variables cualitativas que estan más relacionadas con las condiciones laboral como lo son: _'EmploymentStatus'_, _'CompanySize'_ y _'SeriousWork'_ , está selección de variables se realiza despendiendo el punto de vista de investigador."
   ]
  },
  {
   "cell_type": "code",
   "execution_count": 187,
   "metadata": {},
   "outputs": [
    {
     "data": {
      "text/html": [
       "<div>\n",
       "<style scoped>\n",
       "    .dataframe tbody tr th:only-of-type {\n",
       "        vertical-align: middle;\n",
       "    }\n",
       "\n",
       "    .dataframe tbody tr th {\n",
       "        vertical-align: top;\n",
       "    }\n",
       "\n",
       "    .dataframe thead th {\n",
       "        text-align: right;\n",
       "    }\n",
       "</style>\n",
       "<table border=\"1\" class=\"dataframe\">\n",
       "  <thead>\n",
       "    <tr style=\"text-align: right;\">\n",
       "      <th></th>\n",
       "      <th>JobSatisfaction</th>\n",
       "      <th>EmploymentStatus</th>\n",
       "      <th>CompanySize</th>\n",
       "      <th>SeriousWork</th>\n",
       "    </tr>\n",
       "  </thead>\n",
       "  <tbody>\n",
       "    <tr>\n",
       "      <th>0</th>\n",
       "      <td>NaN</td>\n",
       "      <td>Not employed, and not looking for work</td>\n",
       "      <td>NaN</td>\n",
       "      <td>Strongly agree</td>\n",
       "    </tr>\n",
       "    <tr>\n",
       "      <th>1</th>\n",
       "      <td>NaN</td>\n",
       "      <td>Employed part-time</td>\n",
       "      <td>20 to 99 employees</td>\n",
       "      <td>NaN</td>\n",
       "    </tr>\n",
       "    <tr>\n",
       "      <th>2</th>\n",
       "      <td>9.0</td>\n",
       "      <td>Employed full-time</td>\n",
       "      <td>10,000 or more employees</td>\n",
       "      <td>Agree</td>\n",
       "    </tr>\n",
       "    <tr>\n",
       "      <th>3</th>\n",
       "      <td>3.0</td>\n",
       "      <td>Employed full-time</td>\n",
       "      <td>10,000 or more employees</td>\n",
       "      <td>Strongly agree</td>\n",
       "    </tr>\n",
       "    <tr>\n",
       "      <th>4</th>\n",
       "      <td>8.0</td>\n",
       "      <td>Employed full-time</td>\n",
       "      <td>10 to 19 employees</td>\n",
       "      <td>NaN</td>\n",
       "    </tr>\n",
       "  </tbody>\n",
       "</table>\n",
       "</div>"
      ],
      "text/plain": [
       "   JobSatisfaction                        EmploymentStatus  \\\n",
       "0              NaN  Not employed, and not looking for work   \n",
       "1              NaN                      Employed part-time   \n",
       "2              9.0                      Employed full-time   \n",
       "3              3.0                      Employed full-time   \n",
       "4              8.0                      Employed full-time   \n",
       "\n",
       "                CompanySize     SeriousWork  \n",
       "0                       NaN  Strongly agree  \n",
       "1        20 to 99 employees             NaN  \n",
       "2  10,000 or more employees           Agree  \n",
       "3  10,000 or more employees  Strongly agree  \n",
       "4        10 to 19 employees             NaN  "
      ]
     },
     "execution_count": 187,
     "metadata": {},
     "output_type": "execute_result"
    }
   ],
   "source": [
    "num_vars2 = df[['JobSatisfaction','EmploymentStatus','CompanySize','SeriousWork']]\n",
    "num_vars2.head()"
   ]
  },
  {
   "cell_type": "markdown",
   "metadata": {},
   "source": [
    "Dado que la base de datos contiene valores en null procedemos a eliminar las filas con valores null."
   ]
  },
  {
   "cell_type": "code",
   "execution_count": 188,
   "metadata": {},
   "outputs": [
    {
     "name": "stdout",
     "output_type": "stream",
     "text": [
      "(# filas,# Columnas)= (22498, 4)\n"
     ]
    }
   ],
   "source": [
    "datos = num_vars2.dropna(axis=0)\n",
    "datos.shape\n",
    "print('(# filas,# Columnas)=', datos.shape)"
   ]
  },
  {
   "cell_type": "code",
   "execution_count": 189,
   "metadata": {},
   "outputs": [
    {
     "data": {
      "text/html": [
       "<div>\n",
       "<style scoped>\n",
       "    .dataframe tbody tr th:only-of-type {\n",
       "        vertical-align: middle;\n",
       "    }\n",
       "\n",
       "    .dataframe tbody tr th {\n",
       "        vertical-align: top;\n",
       "    }\n",
       "\n",
       "    .dataframe thead th {\n",
       "        text-align: right;\n",
       "    }\n",
       "</style>\n",
       "<table border=\"1\" class=\"dataframe\">\n",
       "  <thead>\n",
       "    <tr style=\"text-align: right;\">\n",
       "      <th></th>\n",
       "      <th>JobSatisfaction</th>\n",
       "      <th>EmploymentStatus</th>\n",
       "      <th>CompanySize</th>\n",
       "      <th>SeriousWork</th>\n",
       "    </tr>\n",
       "  </thead>\n",
       "  <tbody>\n",
       "    <tr>\n",
       "      <th>2</th>\n",
       "      <td>9.0</td>\n",
       "      <td>Employed full-time</td>\n",
       "      <td>10,000 or more employees</td>\n",
       "      <td>Agree</td>\n",
       "    </tr>\n",
       "    <tr>\n",
       "      <th>3</th>\n",
       "      <td>3.0</td>\n",
       "      <td>Employed full-time</td>\n",
       "      <td>10,000 or more employees</td>\n",
       "      <td>Strongly agree</td>\n",
       "    </tr>\n",
       "    <tr>\n",
       "      <th>8</th>\n",
       "      <td>6.0</td>\n",
       "      <td>Employed full-time</td>\n",
       "      <td>5,000 to 9,999 employees</td>\n",
       "      <td>Strongly agree</td>\n",
       "    </tr>\n",
       "    <tr>\n",
       "      <th>14</th>\n",
       "      <td>8.0</td>\n",
       "      <td>Employed full-time</td>\n",
       "      <td>5,000 to 9,999 employees</td>\n",
       "      <td>Agree</td>\n",
       "    </tr>\n",
       "    <tr>\n",
       "      <th>17</th>\n",
       "      <td>8.0</td>\n",
       "      <td>Employed full-time</td>\n",
       "      <td>1,000 to 4,999 employees</td>\n",
       "      <td>Agree</td>\n",
       "    </tr>\n",
       "  </tbody>\n",
       "</table>\n",
       "</div>"
      ],
      "text/plain": [
       "    JobSatisfaction    EmploymentStatus               CompanySize  \\\n",
       "2               9.0  Employed full-time  10,000 or more employees   \n",
       "3               3.0  Employed full-time  10,000 or more employees   \n",
       "8               6.0  Employed full-time  5,000 to 9,999 employees   \n",
       "14              8.0  Employed full-time  5,000 to 9,999 employees   \n",
       "17              8.0  Employed full-time  1,000 to 4,999 employees   \n",
       "\n",
       "       SeriousWork  \n",
       "2            Agree  \n",
       "3   Strongly agree  \n",
       "8   Strongly agree  \n",
       "14           Agree  \n",
       "17           Agree  "
      ]
     },
     "execution_count": 189,
     "metadata": {},
     "output_type": "execute_result"
    }
   ],
   "source": [
    "datos.head()"
   ]
  },
  {
   "cell_type": "markdown",
   "metadata": {},
   "source": [
    "## Modelo lineal Múltiple\n",
    "\n",
    "Con el objetivo de analizar variables cualitativas en el modelo de regresión lineal múltiple, es necesario convertir cada categoria de cada variable en 1 columna respectivamente, este proceso se conoce como \"one-hot encoding\"."
   ]
  },
  {
   "cell_type": "code",
   "execution_count": 190,
   "metadata": {},
   "outputs": [],
   "source": [
    "datos2=pd.get_dummies(datos, columns=[\"EmploymentStatus\",\"CompanySize\",\"SeriousWork\"]).head()"
   ]
  },
  {
   "cell_type": "code",
   "execution_count": 191,
   "metadata": {},
   "outputs": [
    {
     "name": "stdout",
     "output_type": "stream",
     "text": [
      "<class 'pandas.core.frame.DataFrame'>\n",
      "Int64Index: 5 entries, 2 to 17\n",
      "Data columns (total 20 columns):\n",
      " #   Column                                                                 Non-Null Count  Dtype  \n",
      "---  ------                                                                 --------------  -----  \n",
      " 0   JobSatisfaction                                                        5 non-null      float64\n",
      " 1   EmploymentStatus_Employed full-time                                    5 non-null      uint8  \n",
      " 2   EmploymentStatus_Employed part-time                                    5 non-null      uint8  \n",
      " 3   EmploymentStatus_Independent contractor, freelancer, or self-employed  5 non-null      uint8  \n",
      " 4   EmploymentStatus_Not employed, and not looking for work                5 non-null      uint8  \n",
      " 5   CompanySize_1,000 to 4,999 employees                                   5 non-null      uint8  \n",
      " 6   CompanySize_10 to 19 employees                                         5 non-null      uint8  \n",
      " 7   CompanySize_10,000 or more employees                                   5 non-null      uint8  \n",
      " 8   CompanySize_100 to 499 employees                                       5 non-null      uint8  \n",
      " 9   CompanySize_20 to 99 employees                                         5 non-null      uint8  \n",
      " 10  CompanySize_5,000 to 9,999 employees                                   5 non-null      uint8  \n",
      " 11  CompanySize_500 to 999 employees                                       5 non-null      uint8  \n",
      " 12  CompanySize_Fewer than 10 employees                                    5 non-null      uint8  \n",
      " 13  CompanySize_I don't know                                               5 non-null      uint8  \n",
      " 14  CompanySize_I prefer not to answer                                     5 non-null      uint8  \n",
      " 15  SeriousWork_Agree                                                      5 non-null      uint8  \n",
      " 16  SeriousWork_Disagree                                                   5 non-null      uint8  \n",
      " 17  SeriousWork_Somewhat agree                                             5 non-null      uint8  \n",
      " 18  SeriousWork_Strongly agree                                             5 non-null      uint8  \n",
      " 19  SeriousWork_Strongly disagree                                          5 non-null      uint8  \n",
      "dtypes: float64(1), uint8(19)\n",
      "memory usage: 175.0 bytes\n"
     ]
    }
   ],
   "source": [
    "datos2.info()"
   ]
  },
  {
   "cell_type": "markdown",
   "metadata": {},
   "source": [
    "Después de obtener la base, introduccimos todas las variables en el modelo con el fin de determinar cuales son las más relevantes."
   ]
  },
  {
   "cell_type": "code",
   "execution_count": 194,
   "metadata": {},
   "outputs": [
    {
     "name": "stdout",
     "output_type": "stream",
     "text": [
      "                            OLS Regression Results                            \n",
      "==============================================================================\n",
      "Dep. Variable:        JobSatisfaction   R-squared:                       1.000\n",
      "Model:                            OLS   Adj. R-squared:                    nan\n",
      "Method:                 Least Squares   F-statistic:                       nan\n",
      "Date:                Thu, 04 Feb 2021   Prob (F-statistic):                nan\n",
      "Time:                        15:34:51   Log-Likelihood:                 96.870\n",
      "No. Observations:                   3   AIC:                            -187.7\n",
      "Df Residuals:                       0   BIC:                            -190.4\n",
      "Df Model:                           2                                         \n",
      "Covariance Type:            nonrobust                                         \n",
      "========================================================================================================\n",
      "                                           coef    std err          t      P>|t|      [0.025      0.975]\n",
      "--------------------------------------------------------------------------------------------------------\n",
      "EmploymentStatus_Employed full-time      3.7500        inf          0        nan         nan         nan\n",
      "EmploymentStatus_Employed part-time  -1.249e-16        inf         -0        nan         nan         nan\n",
      "CompanySize_Fewer than 10 employees           0        nan        nan        nan         nan         nan\n",
      "CompanySize_10 to 19 employees                0        nan        nan        nan         nan         nan\n",
      "CompanySize_20 to 99 employees                0        nan        nan        nan         nan         nan\n",
      "CompanySize_100 to 499 employees              0        nan        nan        nan         nan         nan\n",
      "CompanySize_500 to 999 employees              0        nan        nan        nan         nan         nan\n",
      "CompanySize_1,000 to 4,999 employees          0        nan        nan        nan         nan         nan\n",
      "CompanySize_5,000 to 9,999 employees     1.3750        inf          0        nan         nan         nan\n",
      "CompanySize_10,000 or more employees     2.3750        inf          0        nan         nan         nan\n",
      "SeriousWork_Agree                        2.8750        inf          0        nan         nan         nan\n",
      "SeriousWork_Disagree                          0        nan        nan        nan         nan         nan\n",
      "SeriousWork_Somewhat agree                    0        nan        nan        nan         nan         nan\n",
      "SeriousWork_Strongly agree               0.8750        inf          0        nan         nan         nan\n",
      "SeriousWork_Strongly disagree                 0        nan        nan        nan         nan         nan\n",
      "==============================================================================\n",
      "Omnibus:                          nan   Durbin-Watson:                   1.000\n",
      "Prob(Omnibus):                    nan   Jarque-Bera (JB):                0.281\n",
      "Skew:                           0.000   Prob(JB):                        0.869\n",
      "Kurtosis:                       1.500   Cond. No.                         3.19\n",
      "==============================================================================\n",
      "\n",
      "Warnings:\n",
      "[1] Standard Errors assume that the covariance matrix of the errors is correctly specified.\n",
      "[2] The input rank is higher than the number of observations.\n"
     ]
    }
   ],
   "source": [
    "X = datos2[['EmploymentStatus_Employed full-time','EmploymentStatus_Employed part-time',\n",
    "            'CompanySize_Fewer than 10 employees','CompanySize_10 to 19 employees','CompanySize_20 to 99 employees',\n",
    "            'CompanySize_100 to 499 employees','CompanySize_500 to 999 employees','CompanySize_1,000 to 4,999 employees',\n",
    "            'CompanySize_5,000 to 9,999 employees', 'CompanySize_10,000 or more employees',\n",
    "            'SeriousWork_Agree','SeriousWork_Disagree','SeriousWork_Somewhat agree',\n",
    "            'SeriousWork_Strongly agree', 'SeriousWork_Strongly disagree']]\n",
    "y = datos2['JobSatisfaction']\n",
    "\n",
    "#Split into train and test\n",
    "X_train, X_test, y_train, y_test = train_test_split(X, y, test_size = .30, random_state=42) \n",
    "\n",
    "X_train = sm.add_constant(X_train, prepend=True)\n",
    "modelo2 = sm.OLS(endog=y_train, exog=X_train,)\n",
    "modelo2 = modelo2.fit()\n",
    "print(modelo2.summary())\n"
   ]
  },
  {
   "cell_type": "markdown",
   "metadata": {},
   "source": [
    "Despues de realizar el modelo, encontramos que existe problemas de multicolinealidad, ya que todas las columnas las ingresamos al modelo. Por consiguiente se realizó varias interacciones seleccionando diferentes variables y el modelo presentado a continuación, es el mejor modelo que itero con un R2 igual a 89.3% y nos indica que las variable de _'EmploymentStatus'_ es significativa para modelo, es decir que el estado del empleyo influye positivamente en la satisfacción del trabajador."
   ]
  },
  {
   "cell_type": "code",
   "execution_count": 208,
   "metadata": {},
   "outputs": [
    {
     "name": "stdout",
     "output_type": "stream",
     "text": [
      "                            OLS Regression Results                            \n",
      "==============================================================================\n",
      "Dep. Variable:        JobSatisfaction   R-squared:                       0.893\n",
      "Model:                            OLS   Adj. R-squared:                  0.786\n",
      "Method:                 Least Squares   F-statistic:                     8.333\n",
      "Date:                Thu, 04 Feb 2021   Prob (F-statistic):              0.212\n",
      "Time:                        15:40:41   Log-Likelihood:                -1.5692\n",
      "No. Observations:                   3   AIC:                             7.138\n",
      "Df Residuals:                       1   BIC:                             5.336\n",
      "Df Model:                           1                                         \n",
      "Covariance Type:            nonrobust                                         \n",
      "=======================================================================================================\n",
      "                                          coef    std err          t      P>|t|      [0.025      0.975]\n",
      "-------------------------------------------------------------------------------------------------------\n",
      "EmploymentStatus_Employed full-time     8.5000      0.500     17.000      0.037       2.147      14.853\n",
      "SeriousWork_Strongly agree             -2.5000      0.866     -2.887      0.212     -13.504       8.504\n",
      "==============================================================================\n",
      "Omnibus:                          nan   Durbin-Watson:                   2.500\n",
      "Prob(Omnibus):                    nan   Jarque-Bera (JB):                0.281\n",
      "Skew:                           0.000   Prob(JB):                        0.869\n",
      "Kurtosis:                       1.500   Cond. No.                         2.41\n",
      "==============================================================================\n",
      "\n",
      "Warnings:\n",
      "[1] Standard Errors assume that the covariance matrix of the errors is correctly specified.\n"
     ]
    }
   ],
   "source": [
    "X = datos2[['EmploymentStatus_Employed full-time','SeriousWork_Strongly agree']]\n",
    "y = datos2['JobSatisfaction']\n",
    "\n",
    "#Split into train and test\n",
    "X_train, X_test, y_train, y_test = train_test_split(X, y, test_size = .30, random_state=42) \n",
    "\n",
    "X_train = sm.add_constant(X_train, prepend=True)\n",
    "modelo3 = sm.OLS(endog=y_train, exog=X_train,)\n",
    "modelo3 = modelo3.fit()\n",
    "print(modelo3.summary())"
   ]
  },
  {
   "cell_type": "markdown",
   "metadata": {},
   "source": [
    "***Después de realizar queda la pregunta: _¿ Qué las otras variables cualitativas son significativas e influyen en la satifacción laboral de un empleado?, averigualo replicando este código con otras variables._***"
   ]
  },
  {
   "cell_type": "code",
   "execution_count": null,
   "metadata": {},
   "outputs": [],
   "source": []
  }
 ],
 "metadata": {
  "kernelspec": {
   "display_name": "Python 3",
   "language": "python",
   "name": "python3"
  },
  "language_info": {
   "codemirror_mode": {
    "name": "ipython",
    "version": 3
   },
   "file_extension": ".py",
   "mimetype": "text/x-python",
   "name": "python",
   "nbconvert_exporter": "python",
   "pygments_lexer": "ipython3",
   "version": "3.7.6"
  }
 },
 "nbformat": 4,
 "nbformat_minor": 4
}
