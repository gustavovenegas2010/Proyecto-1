{
 "cells": [
  {
   "cell_type": "markdown",
   "metadata": {},
   "source": [
    "# Stack Overflow Data Base Respondents' Job Satisfaction Questions - 2017 Survey.\n",
    "\n",
    "The dataset has more than 50,000 observations and 154 variables. On this data base I was interested in asking myself the following questions: \n",
    "\n",
    "Question 1: How does job satisfaction behave?\n",
    "\n",
    "Question 2: If a person has high career satisfaction (CareerSatisfaction), will he/she also have high job satisfaction (JobSatisfaction)?\n",
    "\n",
    "Question 3: What qualitative and quantitative variables influence an employee to have high JobSatisfaction?\n"
   ]
  },
  {
   "cell_type": "markdown",
   "metadata": {},
   "source": [
    "## _Load libraries_"
   ]
  },
  {
   "cell_type": "code",
   "execution_count": 25,
   "metadata": {},
   "outputs": [
    {
     "name": "stdout",
     "output_type": "stream",
     "text": [
      "Collecting statsmodels\n",
      "  Downloading statsmodels-0.12.2-cp38-none-win_amd64.whl (9.4 MB)\n",
      "Requirement already satisfied: scipy>=1.1 in c:\\users\\teletrabajo\\anaconda3\\envs\\udacity\\lib\\site-packages (from statsmodels) (1.6.0)\n",
      "Requirement already satisfied: numpy>=1.15 in c:\\users\\teletrabajo\\anaconda3\\envs\\udacity\\lib\\site-packages (from statsmodels) (1.19.2)\n",
      "Requirement already satisfied: pandas>=0.21 in c:\\users\\teletrabajo\\anaconda3\\envs\\udacity\\lib\\site-packages (from statsmodels) (1.2.2)\n",
      "Requirement already satisfied: python-dateutil>=2.7.3 in c:\\users\\teletrabajo\\anaconda3\\envs\\udacity\\lib\\site-packages (from pandas>=0.21->statsmodels) (2.8.1)\n",
      "Requirement already satisfied: pytz>=2017.3 in c:\\users\\teletrabajo\\anaconda3\\envs\\udacity\\lib\\site-packages (from pandas>=0.21->statsmodels) (2021.1)\n",
      "Collecting patsy>=0.5\n",
      "  Downloading patsy-0.5.1-py2.py3-none-any.whl (231 kB)\n",
      "Requirement already satisfied: six in c:\\users\\teletrabajo\\anaconda3\\envs\\udacity\\lib\\site-packages (from patsy>=0.5->statsmodels) (1.15.0)\n",
      "Installing collected packages: patsy, statsmodels\n",
      "Successfully installed patsy-0.5.1 statsmodels-0.12.2\n",
      "Note: you may need to restart the kernel to use updated packages.\n"
     ]
    }
   ],
   "source": [
    "pip install statsmodels"
   ]
  },
  {
   "cell_type": "code",
   "execution_count": 26,
   "metadata": {},
   "outputs": [],
   "source": [
    "import numpy as np\n",
    "import pandas as pd\n",
    "import seaborn as sns\n",
    "from pylab import *\n",
    "from numpy import *\n",
    "from IPython.display import display\n",
    "from IPython.core.pylabtools import figsize, getfigs\n",
    "from sklearn.linear_model import LinearRegression\n",
    "from sklearn.model_selection import train_test_split\n",
    "from sklearn.metrics import r2_score, mean_squared_error\n",
    "from scipy.stats import pearsonr\n",
    "import statsmodels.api as sm\n",
    "from scipy import stats\n",
    "import statsmodels.formula.api as smf\n",
    "from IPython import display\n",
    "%matplotlib inline\n",
    "from IPython.display import display\n",
    "from IPython.core.pylabtools import figsize, getfigs\n",
    "plt.rcParams['image.cmap'] = \"bwr\"\n",
    "plt.rcParams['figure.dpi'] = \"100\"\n",
    "plt.rcParams['savefig.bbox'] = \"tight\"\n",
    "style.use('ggplot') or plt.style.use('ggplot')"
   ]
  },
  {
   "cell_type": "markdown",
   "metadata": {},
   "source": [
    "## _Load Database_"
   ]
  },
  {
   "cell_type": "markdown",
   "metadata": {},
   "source": [
    "### _Base df (Public survey results)_"
   ]
  },
  {
   "cell_type": "code",
   "execution_count": 27,
   "metadata": {
    "scrolled": true
   },
   "outputs": [
    {
     "data": {
      "text/html": [
       "<div>\n",
       "<style scoped>\n",
       "    .dataframe tbody tr th:only-of-type {\n",
       "        vertical-align: middle;\n",
       "    }\n",
       "\n",
       "    .dataframe tbody tr th {\n",
       "        vertical-align: top;\n",
       "    }\n",
       "\n",
       "    .dataframe thead th {\n",
       "        text-align: right;\n",
       "    }\n",
       "</style>\n",
       "<table border=\"1\" class=\"dataframe\">\n",
       "  <thead>\n",
       "    <tr style=\"text-align: right;\">\n",
       "      <th></th>\n",
       "      <th>Respondent</th>\n",
       "      <th>Professional</th>\n",
       "      <th>ProgramHobby</th>\n",
       "      <th>Country</th>\n",
       "      <th>University</th>\n",
       "      <th>EmploymentStatus</th>\n",
       "      <th>FormalEducation</th>\n",
       "      <th>MajorUndergrad</th>\n",
       "      <th>HomeRemote</th>\n",
       "      <th>CompanySize</th>\n",
       "      <th>...</th>\n",
       "      <th>StackOverflowMakeMoney</th>\n",
       "      <th>Gender</th>\n",
       "      <th>HighestEducationParents</th>\n",
       "      <th>Race</th>\n",
       "      <th>SurveyLong</th>\n",
       "      <th>QuestionsInteresting</th>\n",
       "      <th>QuestionsConfusing</th>\n",
       "      <th>InterestedAnswers</th>\n",
       "      <th>Salary</th>\n",
       "      <th>ExpectedSalary</th>\n",
       "    </tr>\n",
       "  </thead>\n",
       "  <tbody>\n",
       "    <tr>\n",
       "      <th>0</th>\n",
       "      <td>1</td>\n",
       "      <td>Student</td>\n",
       "      <td>Yes, both</td>\n",
       "      <td>United States</td>\n",
       "      <td>No</td>\n",
       "      <td>Not employed, and not looking for work</td>\n",
       "      <td>Secondary school</td>\n",
       "      <td>NaN</td>\n",
       "      <td>NaN</td>\n",
       "      <td>NaN</td>\n",
       "      <td>...</td>\n",
       "      <td>Strongly disagree</td>\n",
       "      <td>Male</td>\n",
       "      <td>High school</td>\n",
       "      <td>White or of European descent</td>\n",
       "      <td>Strongly disagree</td>\n",
       "      <td>Strongly agree</td>\n",
       "      <td>Disagree</td>\n",
       "      <td>Strongly agree</td>\n",
       "      <td>NaN</td>\n",
       "      <td>NaN</td>\n",
       "    </tr>\n",
       "    <tr>\n",
       "      <th>1</th>\n",
       "      <td>2</td>\n",
       "      <td>Student</td>\n",
       "      <td>Yes, both</td>\n",
       "      <td>United Kingdom</td>\n",
       "      <td>Yes, full-time</td>\n",
       "      <td>Employed part-time</td>\n",
       "      <td>Some college/university study without earning ...</td>\n",
       "      <td>Computer science or software engineering</td>\n",
       "      <td>More than half, but not all, the time</td>\n",
       "      <td>20 to 99 employees</td>\n",
       "      <td>...</td>\n",
       "      <td>Strongly disagree</td>\n",
       "      <td>Male</td>\n",
       "      <td>A master's degree</td>\n",
       "      <td>White or of European descent</td>\n",
       "      <td>Somewhat agree</td>\n",
       "      <td>Somewhat agree</td>\n",
       "      <td>Disagree</td>\n",
       "      <td>Strongly agree</td>\n",
       "      <td>NaN</td>\n",
       "      <td>37500.0</td>\n",
       "    </tr>\n",
       "    <tr>\n",
       "      <th>2</th>\n",
       "      <td>3</td>\n",
       "      <td>Professional developer</td>\n",
       "      <td>Yes, both</td>\n",
       "      <td>United Kingdom</td>\n",
       "      <td>No</td>\n",
       "      <td>Employed full-time</td>\n",
       "      <td>Bachelor's degree</td>\n",
       "      <td>Computer science or software engineering</td>\n",
       "      <td>Less than half the time, but at least one day ...</td>\n",
       "      <td>10,000 or more employees</td>\n",
       "      <td>...</td>\n",
       "      <td>Disagree</td>\n",
       "      <td>Male</td>\n",
       "      <td>A professional degree</td>\n",
       "      <td>White or of European descent</td>\n",
       "      <td>Somewhat agree</td>\n",
       "      <td>Agree</td>\n",
       "      <td>Disagree</td>\n",
       "      <td>Agree</td>\n",
       "      <td>113750.0</td>\n",
       "      <td>NaN</td>\n",
       "    </tr>\n",
       "    <tr>\n",
       "      <th>3</th>\n",
       "      <td>4</td>\n",
       "      <td>Professional non-developer who sometimes write...</td>\n",
       "      <td>Yes, both</td>\n",
       "      <td>United States</td>\n",
       "      <td>No</td>\n",
       "      <td>Employed full-time</td>\n",
       "      <td>Doctoral degree</td>\n",
       "      <td>A non-computer-focused engineering discipline</td>\n",
       "      <td>Less than half the time, but at least one day ...</td>\n",
       "      <td>10,000 or more employees</td>\n",
       "      <td>...</td>\n",
       "      <td>Disagree</td>\n",
       "      <td>Male</td>\n",
       "      <td>A doctoral degree</td>\n",
       "      <td>White or of European descent</td>\n",
       "      <td>Agree</td>\n",
       "      <td>Agree</td>\n",
       "      <td>Somewhat agree</td>\n",
       "      <td>Strongly agree</td>\n",
       "      <td>NaN</td>\n",
       "      <td>NaN</td>\n",
       "    </tr>\n",
       "    <tr>\n",
       "      <th>4</th>\n",
       "      <td>5</td>\n",
       "      <td>Professional developer</td>\n",
       "      <td>Yes, I program as a hobby</td>\n",
       "      <td>Switzerland</td>\n",
       "      <td>No</td>\n",
       "      <td>Employed full-time</td>\n",
       "      <td>Master's degree</td>\n",
       "      <td>Computer science or software engineering</td>\n",
       "      <td>Never</td>\n",
       "      <td>10 to 19 employees</td>\n",
       "      <td>...</td>\n",
       "      <td>NaN</td>\n",
       "      <td>NaN</td>\n",
       "      <td>NaN</td>\n",
       "      <td>NaN</td>\n",
       "      <td>NaN</td>\n",
       "      <td>NaN</td>\n",
       "      <td>NaN</td>\n",
       "      <td>NaN</td>\n",
       "      <td>NaN</td>\n",
       "      <td>NaN</td>\n",
       "    </tr>\n",
       "  </tbody>\n",
       "</table>\n",
       "<p>5 rows × 154 columns</p>\n",
       "</div>"
      ],
      "text/plain": [
       "   Respondent                                       Professional  \\\n",
       "0           1                                            Student   \n",
       "1           2                                            Student   \n",
       "2           3                             Professional developer   \n",
       "3           4  Professional non-developer who sometimes write...   \n",
       "4           5                             Professional developer   \n",
       "\n",
       "                ProgramHobby         Country      University  \\\n",
       "0                  Yes, both   United States              No   \n",
       "1                  Yes, both  United Kingdom  Yes, full-time   \n",
       "2                  Yes, both  United Kingdom              No   \n",
       "3                  Yes, both   United States              No   \n",
       "4  Yes, I program as a hobby     Switzerland              No   \n",
       "\n",
       "                         EmploymentStatus  \\\n",
       "0  Not employed, and not looking for work   \n",
       "1                      Employed part-time   \n",
       "2                      Employed full-time   \n",
       "3                      Employed full-time   \n",
       "4                      Employed full-time   \n",
       "\n",
       "                                     FormalEducation  \\\n",
       "0                                   Secondary school   \n",
       "1  Some college/university study without earning ...   \n",
       "2                                  Bachelor's degree   \n",
       "3                                    Doctoral degree   \n",
       "4                                    Master's degree   \n",
       "\n",
       "                                  MajorUndergrad  \\\n",
       "0                                            NaN   \n",
       "1       Computer science or software engineering   \n",
       "2       Computer science or software engineering   \n",
       "3  A non-computer-focused engineering discipline   \n",
       "4       Computer science or software engineering   \n",
       "\n",
       "                                          HomeRemote  \\\n",
       "0                                                NaN   \n",
       "1              More than half, but not all, the time   \n",
       "2  Less than half the time, but at least one day ...   \n",
       "3  Less than half the time, but at least one day ...   \n",
       "4                                              Never   \n",
       "\n",
       "                CompanySize  ... StackOverflowMakeMoney Gender  \\\n",
       "0                       NaN  ...      Strongly disagree   Male   \n",
       "1        20 to 99 employees  ...      Strongly disagree   Male   \n",
       "2  10,000 or more employees  ...               Disagree   Male   \n",
       "3  10,000 or more employees  ...               Disagree   Male   \n",
       "4        10 to 19 employees  ...                    NaN    NaN   \n",
       "\n",
       "  HighestEducationParents                          Race         SurveyLong  \\\n",
       "0             High school  White or of European descent  Strongly disagree   \n",
       "1       A master's degree  White or of European descent     Somewhat agree   \n",
       "2   A professional degree  White or of European descent     Somewhat agree   \n",
       "3       A doctoral degree  White or of European descent              Agree   \n",
       "4                     NaN                           NaN                NaN   \n",
       "\n",
       "  QuestionsInteresting QuestionsConfusing InterestedAnswers    Salary  \\\n",
       "0       Strongly agree           Disagree    Strongly agree       NaN   \n",
       "1       Somewhat agree           Disagree    Strongly agree       NaN   \n",
       "2                Agree           Disagree             Agree  113750.0   \n",
       "3                Agree     Somewhat agree    Strongly agree       NaN   \n",
       "4                  NaN                NaN               NaN       NaN   \n",
       "\n",
       "   ExpectedSalary  \n",
       "0             NaN  \n",
       "1         37500.0  \n",
       "2             NaN  \n",
       "3             NaN  \n",
       "4             NaN  \n",
       "\n",
       "[5 rows x 154 columns]"
      ]
     },
     "execution_count": 27,
     "metadata": {},
     "output_type": "execute_result"
    }
   ],
   "source": [
    "df = pd.read_csv('C:/Users/Teletrabajo/Desktop/1.UDACITY/Clase 1. The Data Science Process/Practica Libre/survey-results-public.csv')\n",
    "df.head()"
   ]
  },
  {
   "cell_type": "markdown",
   "metadata": {},
   "source": [
    "### _Original database size_\n",
    "\n",
    "The size of the original database is 51,392 rows or records by 154 columns or variables."
   ]
  },
  {
   "cell_type": "code",
   "execution_count": 28,
   "metadata": {
    "scrolled": true
   },
   "outputs": [
    {
     "name": "stdout",
     "output_type": "stream",
     "text": [
      "Número de filas: \n",
      " 51392 \n",
      "Número de columnas: \n",
      " 154\n"
     ]
    }
   ],
   "source": [
    "num_rows = df.shape[0] #number of rows\n",
    "num_cols = df.shape[1] #number of columns\n",
    "print('Número de filas: \\n', num_rows,'\\nNúmero de columnas: \\n',num_cols)"
   ]
  },
  {
   "cell_type": "markdown",
   "metadata": {},
   "source": [
    "### _Descriptive statistics Quantitative Variables Database df_\n",
    "\n",
    "Next we find that of the 145 variables, 6 are quantitative since the \"Respondent\" column is an identifier column. It is evident that the variable \"ExpectedSalary\" contains very little data (2,566) only 5% of the people answered that question."
   ]
  },
  {
   "cell_type": "code",
   "execution_count": 29,
   "metadata": {
    "scrolled": true
   },
   "outputs": [
    {
     "data": {
      "text/html": [
       "<div>\n",
       "<style scoped>\n",
       "    .dataframe tbody tr th:only-of-type {\n",
       "        vertical-align: middle;\n",
       "    }\n",
       "\n",
       "    .dataframe tbody tr th {\n",
       "        vertical-align: top;\n",
       "    }\n",
       "\n",
       "    .dataframe thead th {\n",
       "        text-align: right;\n",
       "    }\n",
       "</style>\n",
       "<table border=\"1\" class=\"dataframe\">\n",
       "  <thead>\n",
       "    <tr style=\"text-align: right;\">\n",
       "      <th></th>\n",
       "      <th>Respondent</th>\n",
       "      <th>CareerSatisfaction</th>\n",
       "      <th>JobSatisfaction</th>\n",
       "      <th>HoursPerWeek</th>\n",
       "      <th>StackOverflowSatisfaction</th>\n",
       "      <th>Salary</th>\n",
       "      <th>ExpectedSalary</th>\n",
       "    </tr>\n",
       "  </thead>\n",
       "  <tbody>\n",
       "    <tr>\n",
       "      <th>count</th>\n",
       "      <td>51392.000000</td>\n",
       "      <td>42695.000000</td>\n",
       "      <td>40376.000000</td>\n",
       "      <td>20600.000000</td>\n",
       "      <td>36592.000000</td>\n",
       "      <td>12891.000000</td>\n",
       "      <td>2566.000000</td>\n",
       "    </tr>\n",
       "    <tr>\n",
       "      <th>mean</th>\n",
       "      <td>25696.500000</td>\n",
       "      <td>7.300574</td>\n",
       "      <td>6.957078</td>\n",
       "      <td>3.952282</td>\n",
       "      <td>8.429875</td>\n",
       "      <td>56298.480641</td>\n",
       "      <td>33142.220468</td>\n",
       "    </tr>\n",
       "    <tr>\n",
       "      <th>std</th>\n",
       "      <td>14835.736854</td>\n",
       "      <td>1.955444</td>\n",
       "      <td>2.167652</td>\n",
       "      <td>7.564722</td>\n",
       "      <td>1.390635</td>\n",
       "      <td>39880.905277</td>\n",
       "      <td>30162.988829</td>\n",
       "    </tr>\n",
       "    <tr>\n",
       "      <th>min</th>\n",
       "      <td>1.000000</td>\n",
       "      <td>0.000000</td>\n",
       "      <td>0.000000</td>\n",
       "      <td>0.000000</td>\n",
       "      <td>0.000000</td>\n",
       "      <td>0.000000</td>\n",
       "      <td>0.000000</td>\n",
       "    </tr>\n",
       "    <tr>\n",
       "      <th>25%</th>\n",
       "      <td>12848.750000</td>\n",
       "      <td>6.000000</td>\n",
       "      <td>6.000000</td>\n",
       "      <td>1.000000</td>\n",
       "      <td>8.000000</td>\n",
       "      <td>26440.371839</td>\n",
       "      <td>4490.492484</td>\n",
       "    </tr>\n",
       "    <tr>\n",
       "      <th>50%</th>\n",
       "      <td>25696.500000</td>\n",
       "      <td>8.000000</td>\n",
       "      <td>7.000000</td>\n",
       "      <td>1.000000</td>\n",
       "      <td>9.000000</td>\n",
       "      <td>50000.000000</td>\n",
       "      <td>29364.263691</td>\n",
       "    </tr>\n",
       "    <tr>\n",
       "      <th>75%</th>\n",
       "      <td>38544.250000</td>\n",
       "      <td>9.000000</td>\n",
       "      <td>8.000000</td>\n",
       "      <td>4.000000</td>\n",
       "      <td>10.000000</td>\n",
       "      <td>80000.000000</td>\n",
       "      <td>50403.225806</td>\n",
       "    </tr>\n",
       "    <tr>\n",
       "      <th>max</th>\n",
       "      <td>51392.000000</td>\n",
       "      <td>10.000000</td>\n",
       "      <td>10.000000</td>\n",
       "      <td>40.000000</td>\n",
       "      <td>10.000000</td>\n",
       "      <td>197000.000000</td>\n",
       "      <td>187500.000000</td>\n",
       "    </tr>\n",
       "  </tbody>\n",
       "</table>\n",
       "</div>"
      ],
      "text/plain": [
       "         Respondent  CareerSatisfaction  JobSatisfaction  HoursPerWeek  \\\n",
       "count  51392.000000        42695.000000     40376.000000  20600.000000   \n",
       "mean   25696.500000            7.300574         6.957078      3.952282   \n",
       "std    14835.736854            1.955444         2.167652      7.564722   \n",
       "min        1.000000            0.000000         0.000000      0.000000   \n",
       "25%    12848.750000            6.000000         6.000000      1.000000   \n",
       "50%    25696.500000            8.000000         7.000000      1.000000   \n",
       "75%    38544.250000            9.000000         8.000000      4.000000   \n",
       "max    51392.000000           10.000000        10.000000     40.000000   \n",
       "\n",
       "       StackOverflowSatisfaction         Salary  ExpectedSalary  \n",
       "count               36592.000000   12891.000000     2566.000000  \n",
       "mean                    8.429875   56298.480641    33142.220468  \n",
       "std                     1.390635   39880.905277    30162.988829  \n",
       "min                     0.000000       0.000000        0.000000  \n",
       "25%                     8.000000   26440.371839     4490.492484  \n",
       "50%                     9.000000   50000.000000    29364.263691  \n",
       "75%                    10.000000   80000.000000    50403.225806  \n",
       "max                    10.000000  197000.000000   187500.000000  "
      ]
     },
     "execution_count": 29,
     "metadata": {},
     "output_type": "execute_result"
    }
   ],
   "source": [
    "df.describe()"
   ]
  },
  {
   "cell_type": "markdown",
   "metadata": {},
   "source": [
    "# Question 1)\n",
    "\n",
    "##  _¿How job satisfaction behaves?_\n",
    "\n",
    "Subsequently, a summary of descriptive statistics of the _JobSatisfaction_ variable will be calculated, where it can be seen that on average job satisfaction is 6.9, which means that most respondents have good job satisfaction. It is also evident that the 1st percentile (25%) is 6, therefore 75% of the respondents have a job satisfaction above 6, which is acceptable, as can be seen in the following table, bar chart and box plot."
   ]
  },
  {
   "cell_type": "code",
   "execution_count": 30,
   "metadata": {},
   "outputs": [
    {
     "data": {
      "text/plain": [
       "count    40376.000000\n",
       "mean         6.957078\n",
       "std          2.167652\n",
       "min          0.000000\n",
       "25%          6.000000\n",
       "50%          7.000000\n",
       "75%          8.000000\n",
       "max         10.000000\n",
       "Name: JobSatisfaction, dtype: float64"
      ]
     },
     "execution_count": 30,
     "metadata": {},
     "output_type": "execute_result"
    }
   ],
   "source": [
    "df['JobSatisfaction'].describe()"
   ]
  },
  {
   "cell_type": "code",
   "execution_count": 31,
   "metadata": {},
   "outputs": [
    {
     "data": {
      "image/png": "[encoded data removed]",
      "text/plain": [
       "<Figure size 600x400 with 1 Axes>"
      ]
     },
     "metadata": {},
     "output_type": "display_data"
    }
   ],
   "source": [
    "df['JobSatisfaction'].hist(bins=8) \n",
    "plt.xlabel(\"Satisfacción Laboral\")\n",
    "plt.ylabel(\"Frecuencia\")\n",
    "plt.title(\"Diagrama de barras Satisfacción Laboral\")\n",
    "plt.show()"
   ]
  },
  {
   "cell_type": "code",
   "execution_count": 32,
   "metadata": {},
   "outputs": [
    {
     "name": "stderr",
     "output_type": "stream",
     "text": [
      "C:\\Users\\Teletrabajo\\anaconda3\\envs\\Udacity\\lib\\site-packages\\seaborn\\_decorators.py:36: FutureWarning: Pass the following variable as a keyword arg: x. From version 0.12, the only valid positional argument will be `data`, and passing other arguments without an explicit keyword will result in an error or misinterpretation.\n",
      "  warnings.warn(\n"
     ]
    },
    {
     "data": {
      "image/png": "[encoded data removed]",
      "text/plain": [
       "<Figure size 600x400 with 1 Axes>"
      ]
     },
     "metadata": {},
     "output_type": "display_data"
    }
   ],
   "source": [
    "cajas=sns.boxplot(list(df['JobSatisfaction']))\n",
    "plt.title(\"Diagrama de Caja - Satisfacción Laboral\")\n",
    "plt.xlabel(\"Satisfacción Laboral\")\n",
    "plt.show()"
   ]
  },
  {
   "cell_type": "markdown",
   "metadata": {},
   "source": [
    "The following tables compare job satisfaction with employee status, company size and country. From this we conclude that the employees with the lowest job satisfaction are those with full-time contracts."
   ]
  },
  {
   "cell_type": "code",
   "execution_count": 33,
   "metadata": {},
   "outputs": [
    {
     "data": {
      "text/plain": [
       "EmploymentStatus\n",
       "Employed part-time                                      6.821468\n",
       "Employed full-time                                      6.926805\n",
       "Not employed, and not looking for work                  7.000000\n",
       "Independent contractor, freelancer, or self-employed    7.252823\n",
       "I prefer not to say                                          NaN\n",
       "Name: JobSatisfaction, dtype: float64"
      ]
     },
     "execution_count": 33,
     "metadata": {},
     "output_type": "execute_result"
    }
   ],
   "source": [
    "df2=df.groupby(['EmploymentStatus']).mean()['JobSatisfaction'].sort_values()\n",
    "df2.head()"
   ]
  },
  {
   "cell_type": "markdown",
   "metadata": {},
   "source": [
    "It is also evident that the employees with the highest job satisfaction are those who work for companies with 10 to fewer employees, followed by companies with 10 to 19 employees; from here it is concluded that those with the highest job satisfaction are employees whose companies have few employees."
   ]
  },
  {
   "cell_type": "code",
   "execution_count": 34,
   "metadata": {},
   "outputs": [
    {
     "data": {
      "text/plain": [
       "CompanySize\n",
       "5,000 to 9,999 employees    6.748153\n",
       "10,000 or more employees    6.810345\n",
       "I don't know                6.842679\n",
       "500 to 999 employees        6.883661\n",
       "1,000 to 4,999 employees    6.884509\n",
       "100 to 499 employees        6.937089\n",
       "20 to 99 employees          6.949092\n",
       "10 to 19 employees          7.000799\n",
       "Fewer than 10 employees     7.008749\n",
       "I prefer not to answer      7.280835\n",
       "Name: JobSatisfaction, dtype: float64"
      ]
     },
     "execution_count": 34,
     "metadata": {},
     "output_type": "execute_result"
    }
   ],
   "source": [
    "df.groupby(['CompanySize']).mean()['JobSatisfaction'].sort_values()"
   ]
  },
  {
   "cell_type": "markdown",
   "metadata": {},
   "source": [
    "Given the following tables we conclude that the countries with the lowest job satisfaction are Saint Lucia, Fiji and American Samoa, on the contrary the countries with the highest job satisfaction are: Macau, Libya and Angola."
   ]
  },
  {
   "cell_type": "code",
   "execution_count": 35,
   "metadata": {},
   "outputs": [
    {
     "data": {
      "text/plain": [
       "Country\n",
       "Saint Lucia                    0.000000\n",
       "Fiji                           0.000000\n",
       "American Samoa                 0.000000\n",
       "Martinique (French)            1.500000\n",
       "North Korea                    2.000000\n",
       "Somalia                        2.000000\n",
       "French Guyana                  3.000000\n",
       "Niger                          3.000000\n",
       "Bhutan                         3.000000\n",
       "Lesotho                        3.000000\n",
       "Brunei Darussalam              3.000000\n",
       "U.S. Minor Outlying Islands    3.000000\n",
       "Eritrea                        3.000000\n",
       "Swaziland                      3.500000\n",
       "Falkland Islands               4.000000\n",
       "Gabon                          4.000000\n",
       "Saint Vincent & Grenadines     4.500000\n",
       "Algeria                        4.823529\n",
       "Northern Mariana Islands       5.000000\n",
       "Turkmenistan                   5.000000\n",
       "Name: JobSatisfaction, dtype: float64"
      ]
     },
     "execution_count": 35,
     "metadata": {},
     "output_type": "execute_result"
    }
   ],
   "source": [
    "country_comp=df.groupby(['Country']).mean()['JobSatisfaction'].sort_values().dropna()\n",
    "# como ver los valores mas grandes primero?\n",
    "country_comp[:20]"
   ]
  },
  {
   "cell_type": "code",
   "execution_count": 36,
   "metadata": {},
   "outputs": [
    {
     "data": {
      "text/plain": [
       "Country\n",
       "Libya                             10.000000\n",
       "Macau                             10.000000\n",
       "Angola                             9.000000\n",
       "Yemen                              9.000000\n",
       "Anguilla                           9.000000\n",
       "Laos                               9.000000\n",
       "Andorra                            9.000000\n",
       "New Caledonia (French)             8.666667\n",
       "Suriname                           8.500000\n",
       "Virgin Islands (USA)               8.200000\n",
       "Iceland                            8.090909\n",
       "Malawi                             8.000000\n",
       "Tadjikistan                        8.000000\n",
       "Gibraltar                          8.000000\n",
       "Polynesia (French)                 8.000000\n",
       "Bermuda                            8.000000\n",
       "S. Georgia & S. Sandwich Isls.     8.000000\n",
       "Puerto Rico                        7.937500\n",
       "Qatar                              7.875000\n",
       "Costa Rica                         7.804878\n",
       "Name: JobSatisfaction, dtype: float64"
      ]
     },
     "execution_count": 36,
     "metadata": {},
     "output_type": "execute_result"
    }
   ],
   "source": [
    "country_comp=df.groupby(['Country']).mean()['JobSatisfaction'].sort_values(ascending=False).dropna()\n",
    "# como ver los valores mas grandes primero?\n",
    "country_comp[:20]"
   ]
  },
  {
   "cell_type": "markdown",
   "metadata": {},
   "source": [
    "# Question 2)\n",
    "\n",
    "##  ¿_If a person has high career satisfaction (***CareerSatisfaction***), he/she will also have high job satisfaction (***JobSatisfaction***)?_"
   ]
  },
  {
   "cell_type": "code",
   "execution_count": 37,
   "metadata": {
    "scrolled": true
   },
   "outputs": [
    {
     "data": {
      "image/png": "[encoded data removed]",
      "text/plain": [
       "<Figure size 600x400 with 2 Axes>"
      ]
     },
     "metadata": {},
     "output_type": "display_data"
    }
   ],
   "source": [
    "sns.heatmap(df.corr(), annot=True, fmt='.2f');"
   ]
  },
  {
   "cell_type": "markdown",
   "metadata": {},
   "source": [
    "The correlation diagram above shows that among the quantitative variables, the highest linear relationship is found between the _JobSatisfaction_ and _CareerSatisfaction_ variables, with a correlation of 0.65. Having this correlation indicates that there are indications that the higher the career satisfaction, the higher the job satisfaction. Next we will perform a simple linear model to verify if this variable has an impact and what is its impact?"
   ]
  },
  {
   "cell_type": "markdown",
   "metadata": {},
   "source": [
    "### Definition of the database for the realization of the model."
   ]
  },
  {
   "cell_type": "markdown",
   "metadata": {},
   "source": [
    "Given that the model will be made only with the _JobSatisfaction_ and _CareerSatisfaction_ variables, make a subset to the base with these two variables."
   ]
  },
  {
   "cell_type": "code",
   "execution_count": 38,
   "metadata": {},
   "outputs": [
    {
     "data": {
      "text/html": [
       "<div>\n",
       "<style scoped>\n",
       "    .dataframe tbody tr th:only-of-type {\n",
       "        vertical-align: middle;\n",
       "    }\n",
       "\n",
       "    .dataframe tbody tr th {\n",
       "        vertical-align: top;\n",
       "    }\n",
       "\n",
       "    .dataframe thead th {\n",
       "        text-align: right;\n",
       "    }\n",
       "</style>\n",
       "<table border=\"1\" class=\"dataframe\">\n",
       "  <thead>\n",
       "    <tr style=\"text-align: right;\">\n",
       "      <th></th>\n",
       "      <th>CareerSatisfaction</th>\n",
       "      <th>JobSatisfaction</th>\n",
       "    </tr>\n",
       "  </thead>\n",
       "  <tbody>\n",
       "    <tr>\n",
       "      <th>0</th>\n",
       "      <td>NaN</td>\n",
       "      <td>NaN</td>\n",
       "    </tr>\n",
       "    <tr>\n",
       "      <th>1</th>\n",
       "      <td>NaN</td>\n",
       "      <td>NaN</td>\n",
       "    </tr>\n",
       "    <tr>\n",
       "      <th>2</th>\n",
       "      <td>8.0</td>\n",
       "      <td>9.0</td>\n",
       "    </tr>\n",
       "    <tr>\n",
       "      <th>3</th>\n",
       "      <td>6.0</td>\n",
       "      <td>3.0</td>\n",
       "    </tr>\n",
       "    <tr>\n",
       "      <th>4</th>\n",
       "      <td>6.0</td>\n",
       "      <td>8.0</td>\n",
       "    </tr>\n",
       "  </tbody>\n",
       "</table>\n",
       "</div>"
      ],
      "text/plain": [
       "   CareerSatisfaction  JobSatisfaction\n",
       "0                 NaN              NaN\n",
       "1                 NaN              NaN\n",
       "2                 8.0              9.0\n",
       "3                 6.0              3.0\n",
       "4                 6.0              8.0"
      ]
     },
     "execution_count": 38,
     "metadata": {},
     "output_type": "execute_result"
    }
   ],
   "source": [
    "num_vars = df[['CareerSatisfaction', 'JobSatisfaction']]\n",
    "num_vars.head()"
   ]
  },
  {
   "cell_type": "markdown",
   "metadata": {},
   "source": [
    "Since the database contains null values we proceed to delete the rows with null values."
   ]
  },
  {
   "cell_type": "code",
   "execution_count": 39,
   "metadata": {},
   "outputs": [
    {
     "name": "stdout",
     "output_type": "stream",
     "text": [
      "Número de filas: \n",
      " 40352 \n",
      "Número de columnas: \n",
      " 2\n"
     ]
    }
   ],
   "source": [
    "df_dropna = num_vars.dropna(axis=0)\n",
    "df_dropna_rows = df_dropna.shape[0] #number of rows\n",
    "df_dropna_cols = df_dropna.shape[1] #number of columns\n",
    "print('Número de filas: \\n', df_dropna_rows,'\\nNúmero de columnas: \\n',df_dropna_cols)"
   ]
  },
  {
   "cell_type": "markdown",
   "metadata": {},
   "source": [
    "# Simple linear model"
   ]
  },
  {
   "cell_type": "code",
   "execution_count": 40,
   "metadata": {},
   "outputs": [
    {
     "name": "stdout",
     "output_type": "stream",
     "text": [
      "Coeficiente de determinación R^2: 0.41702156404404633\n",
      "Independent term: \n",
      " 1.4086941268659379\n",
      "Coeficiente: [('CareerSatisfaction', 0.7533886089776572)]\n"
     ]
    }
   ],
   "source": [
    "X = df_dropna[['CareerSatisfaction']]\n",
    "y = df_dropna['JobSatisfaction']\n",
    "\n",
    "#Split into train and test\n",
    "X_train, X_test, y_train, y_test = train_test_split(X, y, test_size = .30, random_state=42) \n",
    "\n",
    "lm_model = LinearRegression(normalize=True) # Instantiate\n",
    "lm_model.fit(X_train, y_train) #Fit\n",
    "\n",
    "      \n",
    "#Predict and score the model\n",
    "y_test_preds = lm_model.predict(X_test) \n",
    "\n",
    "print(\"Coeficiente de determinación R^2:\", lm_model.score(X, y))\n",
    "print('Independent term: \\n', lm_model.intercept_)\n",
    "print(\"Coeficiente:\", list(zip(X.columns, lm_model.coef_.flatten(), )))\n",
    "\n"
   ]
  },
  {
   "cell_type": "markdown",
   "metadata": {},
   "source": [
    "After performing the simple linear regression we observe that the R2 is equal to 0.4170 which indicates that the variable 'CareerSatisfaction' explains a part of the variable 'JobSatisfaction', however after testing with more variables in alternate exercises it fails to increase its r2, therefore we review the Prob (F-statistic) and P_value statistics of the variable 'CareerSatisfaction', to determine if it is significant."
   ]
  },
  {
   "cell_type": "code",
   "execution_count": 41,
   "metadata": {},
   "outputs": [
    {
     "name": "stdout",
     "output_type": "stream",
     "text": [
      "                            OLS Regression Results                            \n",
      "==============================================================================\n",
      "Dep. Variable:        JobSatisfaction   R-squared:                       0.426\n",
      "Model:                            OLS   Adj. R-squared:                  0.426\n",
      "Method:                 Least Squares   F-statistic:                 2.093e+04\n",
      "Date:                Tue, 09 Feb 2021   Prob (F-statistic):               0.00\n",
      "Time:                        20:46:00   Log-Likelihood:                -54283.\n",
      "No. Observations:               28246   AIC:                         1.086e+05\n",
      "Df Residuals:                   28244   BIC:                         1.086e+05\n",
      "Df Model:                           1                                         \n",
      "Covariance Type:            nonrobust                                         \n",
      "======================================================================================\n",
      "                         coef    std err          t      P>|t|      [0.025      0.975]\n",
      "--------------------------------------------------------------------------------------\n",
      "const                  1.4087      0.040     35.596      0.000       1.331       1.486\n",
      "CareerSatisfaction     0.7534      0.005    144.670      0.000       0.743       0.764\n",
      "==============================================================================\n",
      "Omnibus:                     4773.708   Durbin-Watson:                   2.009\n",
      "Prob(Omnibus):                  0.000   Jarque-Bera (JB):            12349.268\n",
      "Skew:                          -0.934   Prob(JB):                         0.00\n",
      "Kurtosis:                       5.647   Cond. No.                         31.1\n",
      "==============================================================================\n",
      "\n",
      "Notes:\n",
      "[1] Standard Errors assume that the covariance matrix of the errors is correctly specified.\n"
     ]
    }
   ],
   "source": [
    "X_train = sm.add_constant(X_train, prepend=True)\n",
    "modelo = sm.OLS(endog=y_train, exog=X_train,)\n",
    "modelo = modelo.fit()\n",
    "print(modelo.summary())"
   ]
  },
  {
   "cell_type": "markdown",
   "metadata": {},
   "source": [
    "It is evident that the probability of the F statistic, Prob(F-statistic)=0.00 is less than 0. 05% , with a level of 95% we can reject the null hypothesis (Ho), that is to say that the model is explanatory, therefore the variable _'CareerSatisfaction'_ of the model has an effect on the response variable _'CareerSatisfaction'_ and we also observe that the p_value (P>|t|) of the variable _'CareerSatisfaction'_ is 0.000, less than 0.05%, that is to say that it is significant for the model.\n",
    "\n",
    "Therefore, we conclude that the degree of satisfaction with a career has an influence on job satisfaction, but it is not enough to explain job satisfaction; therefore, there must be other variables that also contribute to greater job satisfaction."
   ]
  },
  {
   "cell_type": "markdown",
   "metadata": {},
   "source": [
    "# Question 3)\n",
    "\n",
    "##  What qualitative and quantitative variables influence an employee to have high job satisfaction (***JobSatisfaction***)?_"
   ]
  },
  {
   "cell_type": "markdown",
   "metadata": {},
   "source": [
    "Since the database contains more than 140 qualitative variables, we selected the qualitative variables that are more related to the working conditions such as: _'EmploymentStatus'_, _'CompanySize'_ and _'SeriousWork'_, this selection of variables is made depending on the researcher's point of view."
   ]
  },
  {
   "cell_type": "code",
   "execution_count": 42,
   "metadata": {},
   "outputs": [
    {
     "data": {
      "text/html": [
       "<div>\n",
       "<style scoped>\n",
       "    .dataframe tbody tr th:only-of-type {\n",
       "        vertical-align: middle;\n",
       "    }\n",
       "\n",
       "    .dataframe tbody tr th {\n",
       "        vertical-align: top;\n",
       "    }\n",
       "\n",
       "    .dataframe thead th {\n",
       "        text-align: right;\n",
       "    }\n",
       "</style>\n",
       "<table border=\"1\" class=\"dataframe\">\n",
       "  <thead>\n",
       "    <tr style=\"text-align: right;\">\n",
       "      <th></th>\n",
       "      <th>JobSatisfaction</th>\n",
       "      <th>EmploymentStatus</th>\n",
       "      <th>CompanySize</th>\n",
       "      <th>SeriousWork</th>\n",
       "    </tr>\n",
       "  </thead>\n",
       "  <tbody>\n",
       "    <tr>\n",
       "      <th>0</th>\n",
       "      <td>NaN</td>\n",
       "      <td>Not employed, and not looking for work</td>\n",
       "      <td>NaN</td>\n",
       "      <td>Strongly agree</td>\n",
       "    </tr>\n",
       "    <tr>\n",
       "      <th>1</th>\n",
       "      <td>NaN</td>\n",
       "      <td>Employed part-time</td>\n",
       "      <td>20 to 99 employees</td>\n",
       "      <td>NaN</td>\n",
       "    </tr>\n",
       "    <tr>\n",
       "      <th>2</th>\n",
       "      <td>9.0</td>\n",
       "      <td>Employed full-time</td>\n",
       "      <td>10,000 or more employees</td>\n",
       "      <td>Agree</td>\n",
       "    </tr>\n",
       "    <tr>\n",
       "      <th>3</th>\n",
       "      <td>3.0</td>\n",
       "      <td>Employed full-time</td>\n",
       "      <td>10,000 or more employees</td>\n",
       "      <td>Strongly agree</td>\n",
       "    </tr>\n",
       "    <tr>\n",
       "      <th>4</th>\n",
       "      <td>8.0</td>\n",
       "      <td>Employed full-time</td>\n",
       "      <td>10 to 19 employees</td>\n",
       "      <td>NaN</td>\n",
       "    </tr>\n",
       "  </tbody>\n",
       "</table>\n",
       "</div>"
      ],
      "text/plain": [
       "   JobSatisfaction                        EmploymentStatus  \\\n",
       "0              NaN  Not employed, and not looking for work   \n",
       "1              NaN                      Employed part-time   \n",
       "2              9.0                      Employed full-time   \n",
       "3              3.0                      Employed full-time   \n",
       "4              8.0                      Employed full-time   \n",
       "\n",
       "                CompanySize     SeriousWork  \n",
       "0                       NaN  Strongly agree  \n",
       "1        20 to 99 employees             NaN  \n",
       "2  10,000 or more employees           Agree  \n",
       "3  10,000 or more employees  Strongly agree  \n",
       "4        10 to 19 employees             NaN  "
      ]
     },
     "execution_count": 42,
     "metadata": {},
     "output_type": "execute_result"
    }
   ],
   "source": [
    "num_vars2 = df[['JobSatisfaction','EmploymentStatus','CompanySize','SeriousWork']]\n",
    "num_vars2.head()"
   ]
  },
  {
   "cell_type": "markdown",
   "metadata": {},
   "source": [
    "Since the database contains null values we proceed to delete the rows with null values."
   ]
  },
  {
   "cell_type": "code",
   "execution_count": 43,
   "metadata": {},
   "outputs": [
    {
     "name": "stdout",
     "output_type": "stream",
     "text": [
      "(# filas,# Columnas)= (22498, 4)\n"
     ]
    }
   ],
   "source": [
    "datos = num_vars2.dropna(axis=0)\n",
    "datos.shape\n",
    "print('(# filas,# Columnas)=', datos.shape)"
   ]
  },
  {
   "cell_type": "code",
   "execution_count": 44,
   "metadata": {},
   "outputs": [
    {
     "data": {
      "text/html": [
       "<div>\n",
       "<style scoped>\n",
       "    .dataframe tbody tr th:only-of-type {\n",
       "        vertical-align: middle;\n",
       "    }\n",
       "\n",
       "    .dataframe tbody tr th {\n",
       "        vertical-align: top;\n",
       "    }\n",
       "\n",
       "    .dataframe thead th {\n",
       "        text-align: right;\n",
       "    }\n",
       "</style>\n",
       "<table border=\"1\" class=\"dataframe\">\n",
       "  <thead>\n",
       "    <tr style=\"text-align: right;\">\n",
       "      <th></th>\n",
       "      <th>JobSatisfaction</th>\n",
       "      <th>EmploymentStatus</th>\n",
       "      <th>CompanySize</th>\n",
       "      <th>SeriousWork</th>\n",
       "    </tr>\n",
       "  </thead>\n",
       "  <tbody>\n",
       "    <tr>\n",
       "      <th>2</th>\n",
       "      <td>9.0</td>\n",
       "      <td>Employed full-time</td>\n",
       "      <td>10,000 or more employees</td>\n",
       "      <td>Agree</td>\n",
       "    </tr>\n",
       "    <tr>\n",
       "      <th>3</th>\n",
       "      <td>3.0</td>\n",
       "      <td>Employed full-time</td>\n",
       "      <td>10,000 or more employees</td>\n",
       "      <td>Strongly agree</td>\n",
       "    </tr>\n",
       "    <tr>\n",
       "      <th>8</th>\n",
       "      <td>6.0</td>\n",
       "      <td>Employed full-time</td>\n",
       "      <td>5,000 to 9,999 employees</td>\n",
       "      <td>Strongly agree</td>\n",
       "    </tr>\n",
       "    <tr>\n",
       "      <th>14</th>\n",
       "      <td>8.0</td>\n",
       "      <td>Employed full-time</td>\n",
       "      <td>5,000 to 9,999 employees</td>\n",
       "      <td>Agree</td>\n",
       "    </tr>\n",
       "    <tr>\n",
       "      <th>17</th>\n",
       "      <td>8.0</td>\n",
       "      <td>Employed full-time</td>\n",
       "      <td>1,000 to 4,999 employees</td>\n",
       "      <td>Agree</td>\n",
       "    </tr>\n",
       "  </tbody>\n",
       "</table>\n",
       "</div>"
      ],
      "text/plain": [
       "    JobSatisfaction    EmploymentStatus               CompanySize  \\\n",
       "2               9.0  Employed full-time  10,000 or more employees   \n",
       "3               3.0  Employed full-time  10,000 or more employees   \n",
       "8               6.0  Employed full-time  5,000 to 9,999 employees   \n",
       "14              8.0  Employed full-time  5,000 to 9,999 employees   \n",
       "17              8.0  Employed full-time  1,000 to 4,999 employees   \n",
       "\n",
       "       SeriousWork  \n",
       "2            Agree  \n",
       "3   Strongly agree  \n",
       "8   Strongly agree  \n",
       "14           Agree  \n",
       "17           Agree  "
      ]
     },
     "execution_count": 44,
     "metadata": {},
     "output_type": "execute_result"
    }
   ],
   "source": [
    "datos.head()"
   ]
  },
  {
   "cell_type": "markdown",
   "metadata": {},
   "source": [
    "## Multiple linear model\n",
    "\n",
    "In order to analyze qualitative variables in the multiple linear regression model, it is necessary to convert each category of each variable into 1 column respectively, this process is known as \"one-hot encoding\"."
   ]
  },
  {
   "cell_type": "code",
   "execution_count": 45,
   "metadata": {},
   "outputs": [],
   "source": [
    "datos2=pd.get_dummies(datos, columns=[\"EmploymentStatus\",\"CompanySize\",\"SeriousWork\"]).head()"
   ]
  },
  {
   "cell_type": "code",
   "execution_count": 46,
   "metadata": {},
   "outputs": [
    {
     "name": "stdout",
     "output_type": "stream",
     "text": [
      "<class 'pandas.core.frame.DataFrame'>\n",
      "Int64Index: 5 entries, 2 to 17\n",
      "Data columns (total 20 columns):\n",
      " #   Column                                                                 Non-Null Count  Dtype  \n",
      "---  ------                                                                 --------------  -----  \n",
      " 0   JobSatisfaction                                                        5 non-null      float64\n",
      " 1   EmploymentStatus_Employed full-time                                    5 non-null      uint8  \n",
      " 2   EmploymentStatus_Employed part-time                                    5 non-null      uint8  \n",
      " 3   EmploymentStatus_Independent contractor, freelancer, or self-employed  5 non-null      uint8  \n",
      " 4   EmploymentStatus_Not employed, and not looking for work                5 non-null      uint8  \n",
      " 5   CompanySize_1,000 to 4,999 employees                                   5 non-null      uint8  \n",
      " 6   CompanySize_10 to 19 employees                                         5 non-null      uint8  \n",
      " 7   CompanySize_10,000 or more employees                                   5 non-null      uint8  \n",
      " 8   CompanySize_100 to 499 employees                                       5 non-null      uint8  \n",
      " 9   CompanySize_20 to 99 employees                                         5 non-null      uint8  \n",
      " 10  CompanySize_5,000 to 9,999 employees                                   5 non-null      uint8  \n",
      " 11  CompanySize_500 to 999 employees                                       5 non-null      uint8  \n",
      " 12  CompanySize_Fewer than 10 employees                                    5 non-null      uint8  \n",
      " 13  CompanySize_I don't know                                               5 non-null      uint8  \n",
      " 14  CompanySize_I prefer not to answer                                     5 non-null      uint8  \n",
      " 15  SeriousWork_Agree                                                      5 non-null      uint8  \n",
      " 16  SeriousWork_Disagree                                                   5 non-null      uint8  \n",
      " 17  SeriousWork_Somewhat agree                                             5 non-null      uint8  \n",
      " 18  SeriousWork_Strongly agree                                             5 non-null      uint8  \n",
      " 19  SeriousWork_Strongly disagree                                          5 non-null      uint8  \n",
      "dtypes: float64(1), uint8(19)\n",
      "memory usage: 175.0 bytes\n"
     ]
    }
   ],
   "source": [
    "datos2.info()"
   ]
  },
  {
   "cell_type": "markdown",
   "metadata": {},
   "source": [
    "After obtaining the base, all the variables are introduced into the model in order to determine which are the most relevant."
   ]
  },
  {
   "cell_type": "code",
   "execution_count": 47,
   "metadata": {},
   "outputs": [
    {
     "name": "stdout",
     "output_type": "stream",
     "text": [
      "                            OLS Regression Results                            \n",
      "==============================================================================\n",
      "Dep. Variable:        JobSatisfaction   R-squared:                       1.000\n",
      "Model:                            OLS   Adj. R-squared:                    nan\n",
      "Method:                 Least Squares   F-statistic:                       nan\n",
      "Date:                Tue, 09 Feb 2021   Prob (F-statistic):                nan\n",
      "Time:                        20:46:30   Log-Likelihood:                 95.299\n",
      "No. Observations:                   3   AIC:                            -184.6\n",
      "Df Residuals:                       0   BIC:                            -187.3\n",
      "Df Model:                           2                                         \n",
      "Covariance Type:            nonrobust                                         \n",
      "========================================================================================================\n",
      "                                           coef    std err          t      P>|t|      [0.025      0.975]\n",
      "--------------------------------------------------------------------------------------------------------\n",
      "EmploymentStatus_Employed full-time      3.7500        inf          0        nan         nan         nan\n",
      "EmploymentStatus_Employed part-time   1.665e-16        inf          0        nan         nan         nan\n",
      "CompanySize_Fewer than 10 employees           0        nan        nan        nan         nan         nan\n",
      "CompanySize_10 to 19 employees                0        nan        nan        nan         nan         nan\n",
      "CompanySize_20 to 99 employees                0        nan        nan        nan         nan         nan\n",
      "CompanySize_100 to 499 employees              0        nan        nan        nan         nan         nan\n",
      "CompanySize_500 to 999 employees              0        nan        nan        nan         nan         nan\n",
      "CompanySize_1,000 to 4,999 employees          0        nan        nan        nan         nan         nan\n",
      "CompanySize_5,000 to 9,999 employees     1.3750        inf          0        nan         nan         nan\n",
      "CompanySize_10,000 or more employees     2.3750        inf          0        nan         nan         nan\n",
      "SeriousWork_Agree                        2.8750        inf          0        nan         nan         nan\n",
      "SeriousWork_Disagree                          0        nan        nan        nan         nan         nan\n",
      "SeriousWork_Somewhat agree                    0        nan        nan        nan         nan         nan\n",
      "SeriousWork_Strongly agree               0.8750        inf          0        nan         nan         nan\n",
      "SeriousWork_Strongly disagree                 0        nan        nan        nan         nan         nan\n",
      "==============================================================================\n",
      "Omnibus:                          nan   Durbin-Watson:                   1.702\n",
      "Prob(Omnibus):                    nan   Jarque-Bera (JB):                0.290\n",
      "Skew:                          -0.135   Prob(JB):                        0.865\n",
      "Kurtosis:                       1.500   Cond. No.                         3.19\n",
      "==============================================================================\n",
      "\n",
      "Notes:\n",
      "[1] Standard Errors assume that the covariance matrix of the errors is correctly specified.\n",
      "[2] The input rank is higher than the number of observations.\n"
     ]
    },
    {
     "name": "stderr",
     "output_type": "stream",
     "text": [
      "C:\\Users\\Teletrabajo\\anaconda3\\envs\\Udacity\\lib\\site-packages\\statsmodels\\stats\\stattools.py:74: ValueWarning: omni_normtest is not valid with less than 8 observations; 3 samples were given.\n",
      "  warn(\"omni_normtest is not valid with less than 8 observations; %i \"\n",
      "C:\\Users\\Teletrabajo\\anaconda3\\envs\\Udacity\\lib\\site-packages\\statsmodels\\regression\\linear_model.py:1728: RuntimeWarning: divide by zero encountered in true_divide\n",
      "  return 1 - (np.divide(self.nobs - self.k_constant, self.df_resid)\n",
      "C:\\Users\\Teletrabajo\\anaconda3\\envs\\Udacity\\lib\\site-packages\\statsmodels\\regression\\linear_model.py:1728: RuntimeWarning: invalid value encountered in double_scalars\n",
      "  return 1 - (np.divide(self.nobs - self.k_constant, self.df_resid)\n",
      "C:\\Users\\Teletrabajo\\anaconda3\\envs\\Udacity\\lib\\site-packages\\statsmodels\\regression\\linear_model.py:1650: RuntimeWarning: divide by zero encountered in double_scalars\n",
      "  return np.dot(wresid, wresid) / self.df_resid\n",
      "C:\\Users\\Teletrabajo\\anaconda3\\envs\\Udacity\\lib\\site-packages\\statsmodels\\base\\model.py:1452: RuntimeWarning: invalid value encountered in multiply\n",
      "  cov_p = self.normalized_cov_params * scale\n"
     ]
    }
   ],
   "source": [
    "X = datos2[['EmploymentStatus_Employed full-time','EmploymentStatus_Employed part-time',\n",
    "            'CompanySize_Fewer than 10 employees','CompanySize_10 to 19 employees','CompanySize_20 to 99 employees',\n",
    "            'CompanySize_100 to 499 employees','CompanySize_500 to 999 employees','CompanySize_1,000 to 4,999 employees',\n",
    "            'CompanySize_5,000 to 9,999 employees', 'CompanySize_10,000 or more employees',\n",
    "            'SeriousWork_Agree','SeriousWork_Disagree','SeriousWork_Somewhat agree',\n",
    "            'SeriousWork_Strongly agree', 'SeriousWork_Strongly disagree']]\n",
    "y = datos2['JobSatisfaction']\n",
    "\n",
    "#Split into train and test\n",
    "X_train, X_test, y_train, y_test = train_test_split(X, y, test_size = .30, random_state=42) \n",
    "\n",
    "X_train = sm.add_constant(X_train, prepend=True)\n",
    "modelo2 = sm.OLS(endog=y_train, exog=X_train,)\n",
    "modelo2 = modelo2.fit()\n",
    "print(modelo2.summary())\n"
   ]
  },
  {
   "cell_type": "markdown",
   "metadata": {},
   "source": [
    "After running the model, we found that there are multicollinearity problems, since all the columns were entered into the model. Consequently, several interactions were performed selecting different variables and the model presented below is the best model that iterated with an R2 equal to 89.3% and indicates that the _'EmploymentStatus'_ variable is significant for the model, that is to say that the employee's status positively influences the worker's satisfaction."
   ]
  },
  {
   "cell_type": "code",
   "execution_count": 48,
   "metadata": {},
   "outputs": [
    {
     "name": "stdout",
     "output_type": "stream",
     "text": [
      "                            OLS Regression Results                            \n",
      "==============================================================================\n",
      "Dep. Variable:        JobSatisfaction   R-squared:                       0.893\n",
      "Model:                            OLS   Adj. R-squared:                  0.786\n",
      "Method:                 Least Squares   F-statistic:                     8.333\n",
      "Date:                Tue, 09 Feb 2021   Prob (F-statistic):              0.212\n",
      "Time:                        20:46:35   Log-Likelihood:                -1.5692\n",
      "No. Observations:                   3   AIC:                             7.138\n",
      "Df Residuals:                       1   BIC:                             5.336\n",
      "Df Model:                           1                                         \n",
      "Covariance Type:            nonrobust                                         \n",
      "=======================================================================================================\n",
      "                                          coef    std err          t      P>|t|      [0.025      0.975]\n",
      "-------------------------------------------------------------------------------------------------------\n",
      "EmploymentStatus_Employed full-time     8.5000      0.500     17.000      0.037       2.147      14.853\n",
      "SeriousWork_Strongly agree             -2.5000      0.866     -2.887      0.212     -13.504       8.504\n",
      "==============================================================================\n",
      "Omnibus:                          nan   Durbin-Watson:                   2.500\n",
      "Prob(Omnibus):                    nan   Jarque-Bera (JB):                0.281\n",
      "Skew:                           0.000   Prob(JB):                        0.869\n",
      "Kurtosis:                       1.500   Cond. No.                         2.41\n",
      "==============================================================================\n",
      "\n",
      "Notes:\n",
      "[1] Standard Errors assume that the covariance matrix of the errors is correctly specified.\n"
     ]
    },
    {
     "name": "stderr",
     "output_type": "stream",
     "text": [
      "C:\\Users\\Teletrabajo\\anaconda3\\envs\\Udacity\\lib\\site-packages\\statsmodels\\stats\\stattools.py:74: ValueWarning: omni_normtest is not valid with less than 8 observations; 3 samples were given.\n",
      "  warn(\"omni_normtest is not valid with less than 8 observations; %i \"\n"
     ]
    }
   ],
   "source": [
    "X = datos2[['EmploymentStatus_Employed full-time','SeriousWork_Strongly agree']]\n",
    "y = datos2['JobSatisfaction']\n",
    "\n",
    "#Split into train and test\n",
    "X_train, X_test, y_train, y_test = train_test_split(X, y, test_size = .30, random_state=42) \n",
    "\n",
    "X_train = sm.add_constant(X_train, prepend=True)\n",
    "modelo3 = sm.OLS(endog=y_train, exog=X_train,)\n",
    "modelo3 = modelo3.fit()\n",
    "print(modelo3.summary())"
   ]
  },
  {
   "cell_type": "markdown",
   "metadata": {},
   "source": [
    "*** After asking the question: _Which other qualitative variables are significant and influence an employee's job satisfaction?_, find out by replicating this code with other variables.***"
   ]
  },
  {
   "cell_type": "code",
   "execution_count": null,
   "metadata": {},
   "outputs": [],
   "source": []
  }
 ],
 "metadata": {
  "kernelspec": {
   "display_name": "Python 3",
   "language": "python",
   "name": "python3"
  },
  "language_info": {
   "codemirror_mode": {
    "name": "ipython",
    "version": 3
   },
   "file_extension": ".py",
   "mimetype": "text/x-python",
   "name": "python",
   "nbconvert_exporter": "python",
   "pygments_lexer": "ipython3",
   "version": "3.8.5"
  }
 },
 "nbformat": 4,
 "nbformat_minor": 4
}
